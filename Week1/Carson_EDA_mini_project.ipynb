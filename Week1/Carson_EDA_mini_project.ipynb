{
  "cells": [
    {
      "cell_type": "markdown",
      "metadata": {
        "id": "view-in-github",
        "colab_type": "text"
      },
      "source": [
        "<a href=\"https://colab.research.google.com/github/Shaif95/AI_camp/blob/main/Carson_EDA_mini_project.ipynb\" target=\"_parent\"><img src=\"https://colab.research.google.com/assets/colab-badge.svg\" alt=\"Open In Colab\"/></a>"
      ]
    },
    {
      "cell_type": "markdown",
      "metadata": {
        "collapsed": false,
        "id": "vfYsiCo79yXK"
      },
      "source": [
        "# Welcome to your first EDA \\(Exploratory Data Analysis\\)\n",
        "\n"
      ]
    },
    {
      "cell_type": "code",
      "source": [
        "!pip install wget"
      ],
      "metadata": {
        "id": "UtDemjaco1tt",
        "colab": {
          "base_uri": "https://localhost:8080/"
        },
        "outputId": "25f074e6-a12e-441a-b126-7dbb62e51e4c"
      },
      "execution_count": null,
      "outputs": [
        {
          "output_type": "stream",
          "name": "stdout",
          "text": [
            "Looking in indexes: https://pypi.org/simple, https://us-python.pkg.dev/colab-wheels/public/simple/\n",
            "Requirement already satisfied: wget in /usr/local/lib/python3.10/dist-packages (3.2)\n"
          ]
        }
      ]
    },
    {
      "cell_type": "code",
      "source": [
        "import wget\n",
        "\n",
        "url = \"https://raw.githubusercontent.com/Shaif95/AI_camp/main/ufo.csv\"\n",
        "filename = wget.download(url)\n",
        "import pandas as pd\n",
        "\n",
        "df = pd.read_csv(filename)"
      ],
      "metadata": {
        "id": "w9wt5EEro1vX"
      },
      "execution_count": null,
      "outputs": []
    },
    {
      "cell_type": "code",
      "source": [
        "df.head(10)"
      ],
      "metadata": {
        "id": "bDxBTqLNo1zb",
        "colab": {
          "base_uri": "https://localhost:8080/",
          "height": 363
        },
        "outputId": "55e08dfa-844d-4c7c-ed5c-35d845fdc923"
      },
      "execution_count": null,
      "outputs": [
        {
          "output_type": "execute_result",
          "data": {
            "text/plain": [
              "     Date / Time                   City           State Country    Shape  \\\n",
              "0  5/19/23 01:49  Harrisburg East of I5              OR     USA    Light   \n",
              "1  5/18/23 19:40                Kippens              NF  Canada   Circle   \n",
              "2  5/18/23 13:27              Hurricane              UT     USA    Cigar   \n",
              "3  5/17/23 23:20            Sharpsville              IN     USA     Oval   \n",
              "4  5/17/23 23:00         Tadepalligudem  Andhra Pradesh   India     Cube   \n",
              "5  5/17/23 22:14                Chicago              IL     USA    Light   \n",
              "6  5/17/23 15:30          Santa Barbara              CA     USA    Other   \n",
              "7  5/17/23 11:54                  Atlin              BC  Canada  Diamond   \n",
              "8  5/16/23 23:59            Castle Rock              WA     USA    Cross   \n",
              "9  5/16/23 22:45              Claremont              CA     USA    Light   \n",
              "\n",
              "           Duration                                            Summary  \\\n",
              "0  Approx. 3-4 min.                          9 lights in straight line   \n",
              "1         5 minutes  Looked out window and saw the sun catching on ...   \n",
              "2        10 minutes  Saw what looked like a long cigar shaped objec...   \n",
              "3            1 hour           Oval like object over town no brightness   \n",
              "4         5 minutes  We are watching the night sky suddenly there i...   \n",
              "5         2 Seconds  Extremely fast moving object seen moving towar...   \n",
              "6      2 min 23 sec  1 Rotation ~ 1 sec, Wobbling. Square but thinn...   \n",
              "7         3 minutes  Extreme bright light moving east from west jus...   \n",
              "8   Maybe 5 seconds  Cross-shaped, white object with blurry or fogg...   \n",
              "9        15 minutes  Hovering and darting blinking lights at about ...   \n",
              "\n",
              "    Posted Images  \n",
              "0  5/19/23    NaN  \n",
              "1  5/19/23    Yes  \n",
              "2  5/19/23    NaN  \n",
              "3  5/19/23    NaN  \n",
              "4  5/19/23    Yes  \n",
              "5  5/19/23    NaN  \n",
              "6  5/19/23    Yes  \n",
              "7  5/19/23    NaN  \n",
              "8  5/19/23    NaN  \n",
              "9  5/19/23    NaN  "
            ],
            "text/html": [
              "\n",
              "  <div id=\"df-be728b3e-1318-43a1-98b4-c489227d30f3\">\n",
              "    <div class=\"colab-df-container\">\n",
              "      <div>\n",
              "<style scoped>\n",
              "    .dataframe tbody tr th:only-of-type {\n",
              "        vertical-align: middle;\n",
              "    }\n",
              "\n",
              "    .dataframe tbody tr th {\n",
              "        vertical-align: top;\n",
              "    }\n",
              "\n",
              "    .dataframe thead th {\n",
              "        text-align: right;\n",
              "    }\n",
              "</style>\n",
              "<table border=\"1\" class=\"dataframe\">\n",
              "  <thead>\n",
              "    <tr style=\"text-align: right;\">\n",
              "      <th></th>\n",
              "      <th>Date / Time</th>\n",
              "      <th>City</th>\n",
              "      <th>State</th>\n",
              "      <th>Country</th>\n",
              "      <th>Shape</th>\n",
              "      <th>Duration</th>\n",
              "      <th>Summary</th>\n",
              "      <th>Posted</th>\n",
              "      <th>Images</th>\n",
              "    </tr>\n",
              "  </thead>\n",
              "  <tbody>\n",
              "    <tr>\n",
              "      <th>0</th>\n",
              "      <td>5/19/23 01:49</td>\n",
              "      <td>Harrisburg East of I5</td>\n",
              "      <td>OR</td>\n",
              "      <td>USA</td>\n",
              "      <td>Light</td>\n",
              "      <td>Approx. 3-4 min.</td>\n",
              "      <td>9 lights in straight line</td>\n",
              "      <td>5/19/23</td>\n",
              "      <td>NaN</td>\n",
              "    </tr>\n",
              "    <tr>\n",
              "      <th>1</th>\n",
              "      <td>5/18/23 19:40</td>\n",
              "      <td>Kippens</td>\n",
              "      <td>NF</td>\n",
              "      <td>Canada</td>\n",
              "      <td>Circle</td>\n",
              "      <td>5 minutes</td>\n",
              "      <td>Looked out window and saw the sun catching on ...</td>\n",
              "      <td>5/19/23</td>\n",
              "      <td>Yes</td>\n",
              "    </tr>\n",
              "    <tr>\n",
              "      <th>2</th>\n",
              "      <td>5/18/23 13:27</td>\n",
              "      <td>Hurricane</td>\n",
              "      <td>UT</td>\n",
              "      <td>USA</td>\n",
              "      <td>Cigar</td>\n",
              "      <td>10 minutes</td>\n",
              "      <td>Saw what looked like a long cigar shaped objec...</td>\n",
              "      <td>5/19/23</td>\n",
              "      <td>NaN</td>\n",
              "    </tr>\n",
              "    <tr>\n",
              "      <th>3</th>\n",
              "      <td>5/17/23 23:20</td>\n",
              "      <td>Sharpsville</td>\n",
              "      <td>IN</td>\n",
              "      <td>USA</td>\n",
              "      <td>Oval</td>\n",
              "      <td>1 hour</td>\n",
              "      <td>Oval like object over town no brightness</td>\n",
              "      <td>5/19/23</td>\n",
              "      <td>NaN</td>\n",
              "    </tr>\n",
              "    <tr>\n",
              "      <th>4</th>\n",
              "      <td>5/17/23 23:00</td>\n",
              "      <td>Tadepalligudem</td>\n",
              "      <td>Andhra Pradesh</td>\n",
              "      <td>India</td>\n",
              "      <td>Cube</td>\n",
              "      <td>5 minutes</td>\n",
              "      <td>We are watching the night sky suddenly there i...</td>\n",
              "      <td>5/19/23</td>\n",
              "      <td>Yes</td>\n",
              "    </tr>\n",
              "    <tr>\n",
              "      <th>5</th>\n",
              "      <td>5/17/23 22:14</td>\n",
              "      <td>Chicago</td>\n",
              "      <td>IL</td>\n",
              "      <td>USA</td>\n",
              "      <td>Light</td>\n",
              "      <td>2 Seconds</td>\n",
              "      <td>Extremely fast moving object seen moving towar...</td>\n",
              "      <td>5/19/23</td>\n",
              "      <td>NaN</td>\n",
              "    </tr>\n",
              "    <tr>\n",
              "      <th>6</th>\n",
              "      <td>5/17/23 15:30</td>\n",
              "      <td>Santa Barbara</td>\n",
              "      <td>CA</td>\n",
              "      <td>USA</td>\n",
              "      <td>Other</td>\n",
              "      <td>2 min 23 sec</td>\n",
              "      <td>1 Rotation ~ 1 sec, Wobbling. Square but thinn...</td>\n",
              "      <td>5/19/23</td>\n",
              "      <td>Yes</td>\n",
              "    </tr>\n",
              "    <tr>\n",
              "      <th>7</th>\n",
              "      <td>5/17/23 11:54</td>\n",
              "      <td>Atlin</td>\n",
              "      <td>BC</td>\n",
              "      <td>Canada</td>\n",
              "      <td>Diamond</td>\n",
              "      <td>3 minutes</td>\n",
              "      <td>Extreme bright light moving east from west jus...</td>\n",
              "      <td>5/19/23</td>\n",
              "      <td>NaN</td>\n",
              "    </tr>\n",
              "    <tr>\n",
              "      <th>8</th>\n",
              "      <td>5/16/23 23:59</td>\n",
              "      <td>Castle Rock</td>\n",
              "      <td>WA</td>\n",
              "      <td>USA</td>\n",
              "      <td>Cross</td>\n",
              "      <td>Maybe 5 seconds</td>\n",
              "      <td>Cross-shaped, white object with blurry or fogg...</td>\n",
              "      <td>5/19/23</td>\n",
              "      <td>NaN</td>\n",
              "    </tr>\n",
              "    <tr>\n",
              "      <th>9</th>\n",
              "      <td>5/16/23 22:45</td>\n",
              "      <td>Claremont</td>\n",
              "      <td>CA</td>\n",
              "      <td>USA</td>\n",
              "      <td>Light</td>\n",
              "      <td>15 minutes</td>\n",
              "      <td>Hovering and darting blinking lights at about ...</td>\n",
              "      <td>5/19/23</td>\n",
              "      <td>NaN</td>\n",
              "    </tr>\n",
              "  </tbody>\n",
              "</table>\n",
              "</div>\n",
              "      <button class=\"colab-df-convert\" onclick=\"convertToInteractive('df-be728b3e-1318-43a1-98b4-c489227d30f3')\"\n",
              "              title=\"Convert this dataframe to an interactive table.\"\n",
              "              style=\"display:none;\">\n",
              "        \n",
              "  <svg xmlns=\"http://www.w3.org/2000/svg\" height=\"24px\"viewBox=\"0 0 24 24\"\n",
              "       width=\"24px\">\n",
              "    <path d=\"M0 0h24v24H0V0z\" fill=\"none\"/>\n",
              "    <path d=\"M18.56 5.44l.94 2.06.94-2.06 2.06-.94-2.06-.94-.94-2.06-.94 2.06-2.06.94zm-11 1L8.5 8.5l.94-2.06 2.06-.94-2.06-.94L8.5 2.5l-.94 2.06-2.06.94zm10 10l.94 2.06.94-2.06 2.06-.94-2.06-.94-.94-2.06-.94 2.06-2.06.94z\"/><path d=\"M17.41 7.96l-1.37-1.37c-.4-.4-.92-.59-1.43-.59-.52 0-1.04.2-1.43.59L10.3 9.45l-7.72 7.72c-.78.78-.78 2.05 0 2.83L4 21.41c.39.39.9.59 1.41.59.51 0 1.02-.2 1.41-.59l7.78-7.78 2.81-2.81c.8-.78.8-2.07 0-2.86zM5.41 20L4 18.59l7.72-7.72 1.47 1.35L5.41 20z\"/>\n",
              "  </svg>\n",
              "      </button>\n",
              "      \n",
              "  <style>\n",
              "    .colab-df-container {\n",
              "      display:flex;\n",
              "      flex-wrap:wrap;\n",
              "      gap: 12px;\n",
              "    }\n",
              "\n",
              "    .colab-df-convert {\n",
              "      background-color: #E8F0FE;\n",
              "      border: none;\n",
              "      border-radius: 50%;\n",
              "      cursor: pointer;\n",
              "      display: none;\n",
              "      fill: #1967D2;\n",
              "      height: 32px;\n",
              "      padding: 0 0 0 0;\n",
              "      width: 32px;\n",
              "    }\n",
              "\n",
              "    .colab-df-convert:hover {\n",
              "      background-color: #E2EBFA;\n",
              "      box-shadow: 0px 1px 2px rgba(60, 64, 67, 0.3), 0px 1px 3px 1px rgba(60, 64, 67, 0.15);\n",
              "      fill: #174EA6;\n",
              "    }\n",
              "\n",
              "    [theme=dark] .colab-df-convert {\n",
              "      background-color: #3B4455;\n",
              "      fill: #D2E3FC;\n",
              "    }\n",
              "\n",
              "    [theme=dark] .colab-df-convert:hover {\n",
              "      background-color: #434B5C;\n",
              "      box-shadow: 0px 1px 3px 1px rgba(0, 0, 0, 0.15);\n",
              "      filter: drop-shadow(0px 1px 2px rgba(0, 0, 0, 0.3));\n",
              "      fill: #FFFFFF;\n",
              "    }\n",
              "  </style>\n",
              "\n",
              "      <script>\n",
              "        const buttonEl =\n",
              "          document.querySelector('#df-be728b3e-1318-43a1-98b4-c489227d30f3 button.colab-df-convert');\n",
              "        buttonEl.style.display =\n",
              "          google.colab.kernel.accessAllowed ? 'block' : 'none';\n",
              "\n",
              "        async function convertToInteractive(key) {\n",
              "          const element = document.querySelector('#df-be728b3e-1318-43a1-98b4-c489227d30f3');\n",
              "          const dataTable =\n",
              "            await google.colab.kernel.invokeFunction('convertToInteractive',\n",
              "                                                     [key], {});\n",
              "          if (!dataTable) return;\n",
              "\n",
              "          const docLinkHtml = 'Like what you see? Visit the ' +\n",
              "            '<a target=\"_blank\" href=https://colab.research.google.com/notebooks/data_table.ipynb>data table notebook</a>'\n",
              "            + ' to learn more about interactive tables.';\n",
              "          element.innerHTML = '';\n",
              "          dataTable['output_type'] = 'display_data';\n",
              "          await google.colab.output.renderOutput(dataTable, element);\n",
              "          const docLink = document.createElement('div');\n",
              "          docLink.innerHTML = docLinkHtml;\n",
              "          element.appendChild(docLink);\n",
              "        }\n",
              "      </script>\n",
              "    </div>\n",
              "  </div>\n",
              "  "
            ]
          },
          "metadata": {},
          "execution_count": 86
        }
      ]
    },
    {
      "cell_type": "code",
      "source": [
        "import pandas as pd\n",
        "top_10_states - df['State']"
      ],
      "metadata": {
        "id": "Yh84vdwyo11E",
        "colab": {
          "base_uri": "https://localhost:8080/"
        },
        "outputId": "d6ff8803-8e82-4a79-a856-d60d80572b0e"
      },
      "execution_count": null,
      "outputs": [
        {
          "output_type": "execute_result",
          "data": {
            "text/plain": [
              "0     NaN\n",
              "1     NaN\n",
              "2     NaN\n",
              "3     NaN\n",
              "4     NaN\n",
              "     ... \n",
              "NY    NaN\n",
              "OH    NaN\n",
              "PA    NaN\n",
              "TX    NaN\n",
              "WA    NaN\n",
              "Name: State, Length: 3061, dtype: object"
            ]
          },
          "metadata": {},
          "execution_count": 82
        }
      ]
    },
    {
      "cell_type": "code",
      "source": [
        "#Create a pie plot here - might look more like art than data science. Is a pie chart a good choice for the column?\n",
        "import pandas as pd\n",
        "import matplotlib.pyplot as plt\n",
        "# Assuming 'penguins_dataframe' is your dataframe\n",
        "region_counts = df['Shape'].value_counts()\n",
        "# Plotting the pie chart\n",
        "region_counts.plot.pie(autopct='%1.1f%%')\n",
        "# Adding a title\n",
        "plt.title('Distribution of U.F.O Shapes by Region')\n",
        "# Display the plot\n",
        "plt.show()"
      ],
      "metadata": {
        "id": "qHvYlEyNo14o",
        "colab": {
          "base_uri": "https://localhost:8080/",
          "height": 428
        },
        "outputId": "a80fb956-29a2-4fb0-e967-83ae6d128507"
      },
      "execution_count": null,
      "outputs": [
        {
          "output_type": "display_data",
          "data": {
            "text/plain": [
              "<Figure size 640x480 with 1 Axes>"
            ],
            "image/png": "[encoded data removed]"
          },
          "metadata": {}
        }
      ]
    },
    {
      "cell_type": "code",
      "source": [
        "import pandas as pd\n",
        "top_10_states = df['State'].value_counts().head(10)\n",
        "top_10_states.plot.bar()"
      ],
      "metadata": {
        "id": "XpVYNEnqo16R",
        "colab": {
          "base_uri": "https://localhost:8080/",
          "height": 461
        },
        "outputId": "721c84b7-b6ff-419e-c78e-c64b98e7d1ad"
      },
      "execution_count": null,
      "outputs": [
        {
          "output_type": "execute_result",
          "data": {
            "text/plain": [
              "<Axes: >"
            ]
          },
          "metadata": {},
          "execution_count": 79
        },
        {
          "output_type": "display_data",
          "data": {
            "text/plain": [
              "<Figure size 640x480 with 1 Axes>"
            ],
            "image/png": "[encoded data removed]"
          },
          "metadata": {}
        }
      ]
    },
    {
      "cell_type": "code",
      "source": [
        "import pandas as pd\n",
        "import plotly.express as px\n",
        "\n",
        "# Assuming you have the 'top_10_states' Series\n",
        "top_10_states = df['State'].value_counts().head(10)\n",
        "\n",
        "# Create a pie chart using Plotly\n",
        "fig = px.pie(top_10_states, values=top_10_states.values, names=top_10_states.index, title='Top 10 States with UFO Sightings')\n",
        "fig.show()"
      ],
      "metadata": {
        "id": "ok01vT1Bo1-C",
        "colab": {
          "base_uri": "https://localhost:8080/",
          "height": 542
        },
        "outputId": "7b9417d1-d865-44e3-febd-99505f41ae86"
      },
      "execution_count": null,
      "outputs": [
        {
          "output_type": "display_data",
          "data": {
            "text/html": [
              "<html>\n",
              "<head><meta charset=\"utf-8\" /></head>\n",
              "<body>\n",
              "    <div>            <script src=\"https://cdnjs.cloudflare.com/ajax/libs/mathjax/2.7.5/MathJax.js?config=TeX-AMS-MML_SVG\"></script><script type=\"text/javascript\">if (window.MathJax && window.MathJax.Hub && window.MathJax.Hub.Config) {window.MathJax.Hub.Config({SVG: {font: \"STIX-Web\"}});}</script>                <script type=\"text/javascript\">window.PlotlyConfig = {MathJaxConfig: 'local'};</script>\n",
              "        <script src=\"https://cdn.plot.ly/plotly-2.18.2.min.js\"></script>                <div id=\"da714160-6147-47f1-916e-504b8fc6ce1b\" class=\"plotly-graph-div\" style=\"height:525px; width:100%;\"></div>            <script type=\"text/javascript\">                                    window.PLOTLYENV=window.PLOTLYENV || {};                                    if (document.getElementById(\"da714160-6147-47f1-916e-504b8fc6ce1b\")) {                    Plotly.newPlot(                        \"da714160-6147-47f1-916e-504b8fc6ce1b\",                        [{\"domain\":{\"x\":[0.0,1.0],\"y\":[0.0,1.0]},\"hovertemplate\":\"index=%{label}<br>value=%{value}<extra></extra>\",\"labels\":[\"CA\",\"FL\",\"TX\",\"WA\",\"PA\",\"NY\",\"OH\",\"AZ\",\"NC\",\"IL\"],\"legendgroup\":\"\",\"name\":\"\",\"showlegend\":true,\"values\":[274,222,136,118,112,99,96,81,77,76],\"type\":\"pie\"}],                        {\"template\":{\"data\":{\"histogram2dcontour\":[{\"type\":\"histogram2dcontour\",\"colorbar\":{\"outlinewidth\":0,\"ticks\":\"\"},\"colorscale\":[[0.0,\"#0d0887\"],[0.1111111111111111,\"#46039f\"],[0.2222222222222222,\"#7201a8\"],[0.3333333333333333,\"#9c179e\"],[0.4444444444444444,\"#bd3786\"],[0.5555555555555556,\"#d8576b\"],[0.6666666666666666,\"#ed7953\"],[0.7777777777777778,\"#fb9f3a\"],[0.8888888888888888,\"#fdca26\"],[1.0,\"#f0f921\"]]}],\"choropleth\":[{\"type\":\"choropleth\",\"colorbar\":{\"outlinewidth\":0,\"ticks\":\"\"}}],\"histogram2d\":[{\"type\":\"histogram2d\",\"colorbar\":{\"outlinewidth\":0,\"ticks\":\"\"},\"colorscale\":[[0.0,\"#0d0887\"],[0.1111111111111111,\"#46039f\"],[0.2222222222222222,\"#7201a8\"],[0.3333333333333333,\"#9c179e\"],[0.4444444444444444,\"#bd3786\"],[0.5555555555555556,\"#d8576b\"],[0.6666666666666666,\"#ed7953\"],[0.7777777777777778,\"#fb9f3a\"],[0.8888888888888888,\"#fdca26\"],[1.0,\"#f0f921\"]]}],\"heatmap\":[{\"type\":\"heatmap\",\"colorbar\":{\"outlinewidth\":0,\"ticks\":\"\"},\"colorscale\":[[0.0,\"#0d0887\"],[0.1111111111111111,\"#46039f\"],[0.2222222222222222,\"#7201a8\"],[0.3333333333333333,\"#9c179e\"],[0.4444444444444444,\"#bd3786\"],[0.5555555555555556,\"#d8576b\"],[0.6666666666666666,\"#ed7953\"],[0.7777777777777778,\"#fb9f3a\"],[0.8888888888888888,\"#fdca26\"],[1.0,\"#f0f921\"]]}],\"heatmapgl\":[{\"type\":\"heatmapgl\",\"colorbar\":{\"outlinewidth\":0,\"ticks\":\"\"},\"colorscale\":[[0.0,\"#0d0887\"],[0.1111111111111111,\"#46039f\"],[0.2222222222222222,\"#7201a8\"],[0.3333333333333333,\"#9c179e\"],[0.4444444444444444,\"#bd3786\"],[0.5555555555555556,\"#d8576b\"],[0.6666666666666666,\"#ed7953\"],[0.7777777777777778,\"#fb9f3a\"],[0.8888888888888888,\"#fdca26\"],[1.0,\"#f0f921\"]]}],\"contourcarpet\":[{\"type\":\"contourcarpet\",\"colorbar\":{\"outlinewidth\":0,\"ticks\":\"\"}}],\"contour\":[{\"type\":\"contour\",\"colorbar\":{\"outlinewidth\":0,\"ticks\":\"\"},\"colorscale\":[[0.0,\"#0d0887\"],[0.1111111111111111,\"#46039f\"],[0.2222222222222222,\"#7201a8\"],[0.3333333333333333,\"#9c179e\"],[0.4444444444444444,\"#bd3786\"],[0.5555555555555556,\"#d8576b\"],[0.6666666666666666,\"#ed7953\"],[0.7777777777777778,\"#fb9f3a\"],[0.8888888888888888,\"#fdca26\"],[1.0,\"#f0f921\"]]}],\"surface\":[{\"type\":\"surface\",\"colorbar\":{\"outlinewidth\":0,\"ticks\":\"\"},\"colorscale\":[[0.0,\"#0d0887\"],[0.1111111111111111,\"#46039f\"],[0.2222222222222222,\"#7201a8\"],[0.3333333333333333,\"#9c179e\"],[0.4444444444444444,\"#bd3786\"],[0.5555555555555556,\"#d8576b\"],[0.6666666666666666,\"#ed7953\"],[0.7777777777777778,\"#fb9f3a\"],[0.8888888888888888,\"#fdca26\"],[1.0,\"#f0f921\"]]}],\"mesh3d\":[{\"type\":\"mesh3d\",\"colorbar\":{\"outlinewidth\":0,\"ticks\":\"\"}}],\"scatter\":[{\"fillpattern\":{\"fillmode\":\"overlay\",\"size\":10,\"solidity\":0.2},\"type\":\"scatter\"}],\"parcoords\":[{\"type\":\"parcoords\",\"line\":{\"colorbar\":{\"outlinewidth\":0,\"ticks\":\"\"}}}],\"scatterpolargl\":[{\"type\":\"scatterpolargl\",\"marker\":{\"colorbar\":{\"outlinewidth\":0,\"ticks\":\"\"}}}],\"bar\":[{\"error_x\":{\"color\":\"#2a3f5f\"},\"error_y\":{\"color\":\"#2a3f5f\"},\"marker\":{\"line\":{\"color\":\"#E5ECF6\",\"width\":0.5},\"pattern\":{\"fillmode\":\"overlay\",\"size\":10,\"solidity\":0.2}},\"type\":\"bar\"}],\"scattergeo\":[{\"type\":\"scattergeo\",\"marker\":{\"colorbar\":{\"outlinewidth\":0,\"ticks\":\"\"}}}],\"scatterpolar\":[{\"type\":\"scatterpolar\",\"marker\":{\"colorbar\":{\"outlinewidth\":0,\"ticks\":\"\"}}}],\"histogram\":[{\"marker\":{\"pattern\":{\"fillmode\":\"overlay\",\"size\":10,\"solidity\":0.2}},\"type\":\"histogram\"}],\"scattergl\":[{\"type\":\"scattergl\",\"marker\":{\"colorbar\":{\"outlinewidth\":0,\"ticks\":\"\"}}}],\"scatter3d\":[{\"type\":\"scatter3d\",\"line\":{\"colorbar\":{\"outlinewidth\":0,\"ticks\":\"\"}},\"marker\":{\"colorbar\":{\"outlinewidth\":0,\"ticks\":\"\"}}}],\"scattermapbox\":[{\"type\":\"scattermapbox\",\"marker\":{\"colorbar\":{\"outlinewidth\":0,\"ticks\":\"\"}}}],\"scatterternary\":[{\"type\":\"scatterternary\",\"marker\":{\"colorbar\":{\"outlinewidth\":0,\"ticks\":\"\"}}}],\"scattercarpet\":[{\"type\":\"scattercarpet\",\"marker\":{\"colorbar\":{\"outlinewidth\":0,\"ticks\":\"\"}}}],\"carpet\":[{\"aaxis\":{\"endlinecolor\":\"#2a3f5f\",\"gridcolor\":\"white\",\"linecolor\":\"white\",\"minorgridcolor\":\"white\",\"startlinecolor\":\"#2a3f5f\"},\"baxis\":{\"endlinecolor\":\"#2a3f5f\",\"gridcolor\":\"white\",\"linecolor\":\"white\",\"minorgridcolor\":\"white\",\"startlinecolor\":\"#2a3f5f\"},\"type\":\"carpet\"}],\"table\":[{\"cells\":{\"fill\":{\"color\":\"#EBF0F8\"},\"line\":{\"color\":\"white\"}},\"header\":{\"fill\":{\"color\":\"#C8D4E3\"},\"line\":{\"color\":\"white\"}},\"type\":\"table\"}],\"barpolar\":[{\"marker\":{\"line\":{\"color\":\"#E5ECF6\",\"width\":0.5},\"pattern\":{\"fillmode\":\"overlay\",\"size\":10,\"solidity\":0.2}},\"type\":\"barpolar\"}],\"pie\":[{\"automargin\":true,\"type\":\"pie\"}]},\"layout\":{\"autotypenumbers\":\"strict\",\"colorway\":[\"#636efa\",\"#EF553B\",\"#00cc96\",\"#ab63fa\",\"#FFA15A\",\"#19d3f3\",\"#FF6692\",\"#B6E880\",\"#FF97FF\",\"#FECB52\"],\"font\":{\"color\":\"#2a3f5f\"},\"hovermode\":\"closest\",\"hoverlabel\":{\"align\":\"left\"},\"paper_bgcolor\":\"white\",\"plot_bgcolor\":\"#E5ECF6\",\"polar\":{\"bgcolor\":\"#E5ECF6\",\"angularaxis\":{\"gridcolor\":\"white\",\"linecolor\":\"white\",\"ticks\":\"\"},\"radialaxis\":{\"gridcolor\":\"white\",\"linecolor\":\"white\",\"ticks\":\"\"}},\"ternary\":{\"bgcolor\":\"#E5ECF6\",\"aaxis\":{\"gridcolor\":\"white\",\"linecolor\":\"white\",\"ticks\":\"\"},\"baxis\":{\"gridcolor\":\"white\",\"linecolor\":\"white\",\"ticks\":\"\"},\"caxis\":{\"gridcolor\":\"white\",\"linecolor\":\"white\",\"ticks\":\"\"}},\"coloraxis\":{\"colorbar\":{\"outlinewidth\":0,\"ticks\":\"\"}},\"colorscale\":{\"sequential\":[[0.0,\"#0d0887\"],[0.1111111111111111,\"#46039f\"],[0.2222222222222222,\"#7201a8\"],[0.3333333333333333,\"#9c179e\"],[0.4444444444444444,\"#bd3786\"],[0.5555555555555556,\"#d8576b\"],[0.6666666666666666,\"#ed7953\"],[0.7777777777777778,\"#fb9f3a\"],[0.8888888888888888,\"#fdca26\"],[1.0,\"#f0f921\"]],\"sequentialminus\":[[0.0,\"#0d0887\"],[0.1111111111111111,\"#46039f\"],[0.2222222222222222,\"#7201a8\"],[0.3333333333333333,\"#9c179e\"],[0.4444444444444444,\"#bd3786\"],[0.5555555555555556,\"#d8576b\"],[0.6666666666666666,\"#ed7953\"],[0.7777777777777778,\"#fb9f3a\"],[0.8888888888888888,\"#fdca26\"],[1.0,\"#f0f921\"]],\"diverging\":[[0,\"#8e0152\"],[0.1,\"#c51b7d\"],[0.2,\"#de77ae\"],[0.3,\"#f1b6da\"],[0.4,\"#fde0ef\"],[0.5,\"#f7f7f7\"],[0.6,\"#e6f5d0\"],[0.7,\"#b8e186\"],[0.8,\"#7fbc41\"],[0.9,\"#4d9221\"],[1,\"#276419\"]]},\"xaxis\":{\"gridcolor\":\"white\",\"linecolor\":\"white\",\"ticks\":\"\",\"title\":{\"standoff\":15},\"zerolinecolor\":\"white\",\"automargin\":true,\"zerolinewidth\":2},\"yaxis\":{\"gridcolor\":\"white\",\"linecolor\":\"white\",\"ticks\":\"\",\"title\":{\"standoff\":15},\"zerolinecolor\":\"white\",\"automargin\":true,\"zerolinewidth\":2},\"scene\":{\"xaxis\":{\"backgroundcolor\":\"#E5ECF6\",\"gridcolor\":\"white\",\"linecolor\":\"white\",\"showbackground\":true,\"ticks\":\"\",\"zerolinecolor\":\"white\",\"gridwidth\":2},\"yaxis\":{\"backgroundcolor\":\"#E5ECF6\",\"gridcolor\":\"white\",\"linecolor\":\"white\",\"showbackground\":true,\"ticks\":\"\",\"zerolinecolor\":\"white\",\"gridwidth\":2},\"zaxis\":{\"backgroundcolor\":\"#E5ECF6\",\"gridcolor\":\"white\",\"linecolor\":\"white\",\"showbackground\":true,\"ticks\":\"\",\"zerolinecolor\":\"white\",\"gridwidth\":2}},\"shapedefaults\":{\"line\":{\"color\":\"#2a3f5f\"}},\"annotationdefaults\":{\"arrowcolor\":\"#2a3f5f\",\"arrowhead\":0,\"arrowwidth\":1},\"geo\":{\"bgcolor\":\"white\",\"landcolor\":\"#E5ECF6\",\"subunitcolor\":\"white\",\"showland\":true,\"showlakes\":true,\"lakecolor\":\"white\"},\"title\":{\"x\":0.05},\"mapbox\":{\"style\":\"light\"}}},\"legend\":{\"tracegroupgap\":0},\"title\":{\"text\":\"Top 10 States with UFO Sightings\"}},                        {\"responsive\": true}                    ).then(function(){\n",
              "                            \n",
              "var gd = document.getElementById('da714160-6147-47f1-916e-504b8fc6ce1b');\n",
              "var x = new MutationObserver(function (mutations, observer) {{\n",
              "        var display = window.getComputedStyle(gd).display;\n",
              "        if (!display || display === 'none') {{\n",
              "            console.log([gd, 'removed!']);\n",
              "            Plotly.purge(gd);\n",
              "            observer.disconnect();\n",
              "        }}\n",
              "}});\n",
              "\n",
              "// Listen for the removal of the full notebook cells\n",
              "var notebookContainer = gd.closest('#notebook-container');\n",
              "if (notebookContainer) {{\n",
              "    x.observe(notebookContainer, {childList: true});\n",
              "}}\n",
              "\n",
              "// Listen for the clearing of the current output cell\n",
              "var outputEl = gd.closest('.output');\n",
              "if (outputEl) {{\n",
              "    x.observe(outputEl, {childList: true});\n",
              "}}\n",
              "\n",
              "                        })                };                            </script>        </div>\n",
              "</body>\n",
              "</html>"
            ]
          },
          "metadata": {}
        }
      ]
    },
    {
      "cell_type": "code",
      "source": [
        "df2 - df.fillna('No')\n",
        "df2.head(5)"
      ],
      "metadata": {
        "id": "f1LuXuuBo1_m",
        "colab": {
          "base_uri": "https://localhost:8080/",
          "height": 183
        },
        "outputId": "755d0819-ceb8-4e1d-9050-3edf497819ad"
      },
      "execution_count": null,
      "outputs": [
        {
          "output_type": "error",
          "ename": "NameError",
          "evalue": "ignored",
          "traceback": [
            "\u001b[0;31m---------------------------------------------------------------------------\u001b[0m",
            "\u001b[0;31mNameError\u001b[0m                                 Traceback (most recent call last)",
            "\u001b[0;32m<ipython-input-93-ba94e2a40454>\u001b[0m in \u001b[0;36m<cell line: 1>\u001b[0;34m()\u001b[0m\n\u001b[0;32m----> 1\u001b[0;31m \u001b[0mdf2\u001b[0m \u001b[0;34m-\u001b[0m \u001b[0mdf\u001b[0m\u001b[0;34m.\u001b[0m\u001b[0mfillna\u001b[0m\u001b[0;34m(\u001b[0m\u001b[0;34m'No'\u001b[0m\u001b[0;34m)\u001b[0m\u001b[0;34m\u001b[0m\u001b[0;34m\u001b[0m\u001b[0m\n\u001b[0m\u001b[1;32m      2\u001b[0m \u001b[0mdf2\u001b[0m\u001b[0;34m.\u001b[0m\u001b[0mhead\u001b[0m\u001b[0;34m(\u001b[0m\u001b[0;36m5\u001b[0m\u001b[0;34m)\u001b[0m\u001b[0;34m\u001b[0m\u001b[0;34m\u001b[0m\u001b[0m\n",
            "\u001b[0;31mNameError\u001b[0m: name 'df2' is not defined"
          ]
        }
      ]
    },
    {
      "cell_type": "code",
      "source": [],
      "metadata": {
        "id": "ai-gNIPzo2EV"
      },
      "execution_count": null,
      "outputs": []
    },
    {
      "cell_type": "markdown",
      "metadata": {
        "collapsed": false,
        "id": "4zMVKNQm9yXU"
      },
      "source": [
        "### Our task at hand \\-\\- I hope you like penguins!\n",
        "\n",
        "For our mini project, we are going to use Pandas to conduct a basic Exploratory Data Analysis on a penguins dataset. Specifically, we are looking at the <u>Palmer Archipelago \\(Antarctica\\) Penguins</u> dataset, which you can find here:  [https://raw.githubusercontent.com/mcnakhaee/palmerpenguins/master/palmerpenguins/data/penguins\\-raw.csv](https://raw.githubusercontent.com/mcnakhaee/palmerpenguins/master/palmerpenguins/data/penguins-raw.csv)\n",
        "\n",
        "Not sure what an exploratory data analysis is? You can google it! The best definition I found is below:\n",
        "\n",
        "_**Exploratory Data Analysis**_ **refers to the critical process of performing initial investigations on data so as to discover patterns, to spot anomalies, to test hypotheses and to check assumptions with the help of summary statistics and graphical representations.**\n",
        "\n"
      ]
    },
    {
      "cell_type": "code",
      "execution_count": null,
      "metadata": {
        "id": "0mduCEJl9yXW"
      },
      "outputs": [],
      "source": [
        "#Before anything else let's import our library for data analysis, pandas.\n",
        "import pandas as pd"
      ]
    },
    {
      "cell_type": "markdown",
      "metadata": {
        "collapsed": false,
        "id": "u0sKoNk99yXZ"
      },
      "source": [
        "### Step 1: Loading in and understanding our data\n",
        "\n",
        "We need to read in our data. It is currently a .csv \\(comma\\-separated value\\) file, and we generally use the pd.read\\_csv\\(\\) function from pandas to read our data into a dataframe.\n",
        "\n"
      ]
    },
    {
      "cell_type": "code",
      "execution_count": null,
      "metadata": {
        "id": "vrNCt8Ak9yXa"
      },
      "outputs": [],
      "source": [
        "penguins_dataframe = pd.read_csv(\"https://raw.githubusercontent.com/mcnakhaee/palmerpenguins/master/palmerpenguins/data/penguins-raw.csv\")"
      ]
    },
    {
      "cell_type": "markdown",
      "metadata": {
        "collapsed": false,
        "id": "R-K29rc99yXc"
      },
      "source": [
        "**TODO:** Can you run the .head\\(\\) and .tail\\(\\) function on our new dataframe? Can you print the name of all the columns in our dataframe? How about the number of rows?\n"
      ]
    },
    {
      "cell_type": "code",
      "execution_count": null,
      "metadata": {
        "id": "ls1fx23q9yXd",
        "colab": {
          "base_uri": "https://localhost:8080/"
        },
        "outputId": "357a91d5-86b6-4964-8e36-2d88f84ad27c"
      },
      "outputs": [
        {
          "output_type": "execute_result",
          "data": {
            "text/plain": [
              "Index(['studyName', 'Sample Number', 'Species', 'Region', 'Island', 'Stage',\n",
              "       'Individual ID', 'Clutch Completion', 'Date Egg', 'Culmen Length (mm)',\n",
              "       'Culmen Depth (mm)', 'Flipper Length (mm)', 'Body Mass (g)', 'Sex',\n",
              "       'Delta 15 N (o/oo)', 'Delta 13 C (o/oo)', 'Comments'],\n",
              "      dtype='object')"
            ]
          },
          "metadata": {},
          "execution_count": 4
        }
      ],
      "source": [
        "# Run head() on penguins_dataframe\n",
        "penguins_dataframe.head(1)\n"
      ]
    },
    {
      "cell_type": "code",
      "execution_count": null,
      "metadata": {
        "id": "iYdMaeXd9yXf"
      },
      "outputs": [],
      "source": [
        "# Run tail() on penguins_dataframe\n",
        "penguins_dataframe.tail(1)"
      ]
    },
    {
      "cell_type": "code",
      "execution_count": null,
      "metadata": {
        "id": "tau1Hf8r9yXi",
        "colab": {
          "base_uri": "https://localhost:8080/"
        },
        "outputId": "67d1b24f-3f67-45b8-aad5-61bf2ee13db5"
      },
      "outputs": [
        {
          "output_type": "execute_result",
          "data": {
            "text/plain": [
              "Index(['studyName', 'Sample Number', 'Species', 'Region', 'Island', 'Stage',\n",
              "       'Individual ID', 'Clutch Completion', 'Date Egg', 'Culmen Length (mm)',\n",
              "       'Culmen Depth (mm)', 'Flipper Length (mm)', 'Body Mass (g)', 'Sex',\n",
              "       'Delta 15 N (o/oo)', 'Delta 13 C (o/oo)', 'Comments'],\n",
              "      dtype='object')"
            ]
          },
          "metadata": {},
          "execution_count": 9
        }
      ],
      "source": [
        "# Print the name of all the columns in our dataframe\n",
        "penguins_dataframe.columns"
      ]
    },
    {
      "cell_type": "code",
      "execution_count": null,
      "metadata": {
        "id": "WhpNcFBn9yXj",
        "colab": {
          "base_uri": "https://localhost:8080/"
        },
        "outputId": "71c8d792-975f-46fc-d94e-63b9dc774d89"
      },
      "outputs": [
        {
          "output_type": "execute_result",
          "data": {
            "text/plain": [
              "344"
            ]
          },
          "metadata": {},
          "execution_count": 8
        }
      ],
      "source": [
        "# Use google to find out how to print the number of rows in this dataset.\n",
        "penguins_dataframe.shape[0]"
      ]
    },
    {
      "cell_type": "markdown",
      "metadata": {
        "collapsed": false,
        "id": "jKqAcxsX9yXs"
      },
      "source": [
        "### Step 2: Do your research\n",
        "\n",
        "What do the column names mean? At this point you should look up the meanings of any columns you don't know about and make some comments below.\n",
        "\n",
        "Typically at this point we would read up on the domain we are performing data analysis on. To do research on penguins you should probably get to know something about penguins!\n"
      ]
    },
    {
      "cell_type": "raw",
      "metadata": {
        "collapsed": false,
        "id": "FEcC-8z29yXz"
      },
      "source": [
        "What do these columns mean?\n",
        "\n",
        "\n",
        "\n",
        "\n",
        "\n",
        "\n"
      ]
    },
    {
      "cell_type": "markdown",
      "metadata": {
        "collapsed": false,
        "id": "QWlB7w5r9yX7"
      },
      "source": [
        "### Step 3: Cleaning up our Data\n",
        "\n",
        "This data is a lot to take in. How do we know if we can even use this data? I see some weird columns and lots of N/A values.\n",
        "\n",
        "Let's talk through some functions to clean our data and see if it is salvagable. To start, we cannot use all of these columns. I'm thinking I want to get rid of \"studyName\" and \"Comments\" since they are not super useful for understanding the data relationships. I'll do that below.\n"
      ]
    },
    {
      "cell_type": "code",
      "execution_count": null,
      "metadata": {
        "id": "HClXvuyN9yX8",
        "outputId": "5486a8ec-48fe-41f6-a47e-17ee4ada1b37",
        "colab": {
          "base_uri": "https://localhost:8080/",
          "height": 159
        }
      },
      "outputs": [
        {
          "output_type": "execute_result",
          "data": {
            "text/plain": [
              "   Sample Number                              Species  Region     Island  \\\n",
              "0              1  Adelie Penguin (Pygoscelis adeliae)  Anvers  Torgersen   \n",
              "\n",
              "                Stage Individual ID Clutch Completion    Date Egg  \\\n",
              "0  Adult, 1 Egg Stage          N1A1               Yes  2007-11-11   \n",
              "\n",
              "   Culmen Length (mm)  Culmen Depth (mm)  Flipper Length (mm)  Body Mass (g)  \\\n",
              "0                39.1               18.7                181.0         3750.0   \n",
              "\n",
              "    Sex  Delta 15 N (o/oo)  Delta 13 C (o/oo)  \n",
              "0  MALE                NaN                NaN  "
            ],
            "text/html": [
              "\n",
              "  <div id=\"df-7f9a616a-7fd2-49e4-a59b-ab49ee5dc0ad\">\n",
              "    <div class=\"colab-df-container\">\n",
              "      <div>\n",
              "<style scoped>\n",
              "    .dataframe tbody tr th:only-of-type {\n",
              "        vertical-align: middle;\n",
              "    }\n",
              "\n",
              "    .dataframe tbody tr th {\n",
              "        vertical-align: top;\n",
              "    }\n",
              "\n",
              "    .dataframe thead th {\n",
              "        text-align: right;\n",
              "    }\n",
              "</style>\n",
              "<table border=\"1\" class=\"dataframe\">\n",
              "  <thead>\n",
              "    <tr style=\"text-align: right;\">\n",
              "      <th></th>\n",
              "      <th>Sample Number</th>\n",
              "      <th>Species</th>\n",
              "      <th>Region</th>\n",
              "      <th>Island</th>\n",
              "      <th>Stage</th>\n",
              "      <th>Individual ID</th>\n",
              "      <th>Clutch Completion</th>\n",
              "      <th>Date Egg</th>\n",
              "      <th>Culmen Length (mm)</th>\n",
              "      <th>Culmen Depth (mm)</th>\n",
              "      <th>Flipper Length (mm)</th>\n",
              "      <th>Body Mass (g)</th>\n",
              "      <th>Sex</th>\n",
              "      <th>Delta 15 N (o/oo)</th>\n",
              "      <th>Delta 13 C (o/oo)</th>\n",
              "    </tr>\n",
              "  </thead>\n",
              "  <tbody>\n",
              "    <tr>\n",
              "      <th>0</th>\n",
              "      <td>1</td>\n",
              "      <td>Adelie Penguin (Pygoscelis adeliae)</td>\n",
              "      <td>Anvers</td>\n",
              "      <td>Torgersen</td>\n",
              "      <td>Adult, 1 Egg Stage</td>\n",
              "      <td>N1A1</td>\n",
              "      <td>Yes</td>\n",
              "      <td>2007-11-11</td>\n",
              "      <td>39.1</td>\n",
              "      <td>18.7</td>\n",
              "      <td>181.0</td>\n",
              "      <td>3750.0</td>\n",
              "      <td>MALE</td>\n",
              "      <td>NaN</td>\n",
              "      <td>NaN</td>\n",
              "    </tr>\n",
              "  </tbody>\n",
              "</table>\n",
              "</div>\n",
              "      <button class=\"colab-df-convert\" onclick=\"convertToInteractive('df-7f9a616a-7fd2-49e4-a59b-ab49ee5dc0ad')\"\n",
              "              title=\"Convert this dataframe to an interactive table.\"\n",
              "              style=\"display:none;\">\n",
              "        \n",
              "  <svg xmlns=\"http://www.w3.org/2000/svg\" height=\"24px\"viewBox=\"0 0 24 24\"\n",
              "       width=\"24px\">\n",
              "    <path d=\"M0 0h24v24H0V0z\" fill=\"none\"/>\n",
              "    <path d=\"M18.56 5.44l.94 2.06.94-2.06 2.06-.94-2.06-.94-.94-2.06-.94 2.06-2.06.94zm-11 1L8.5 8.5l.94-2.06 2.06-.94-2.06-.94L8.5 2.5l-.94 2.06-2.06.94zm10 10l.94 2.06.94-2.06 2.06-.94-2.06-.94-.94-2.06-.94 2.06-2.06.94z\"/><path d=\"M17.41 7.96l-1.37-1.37c-.4-.4-.92-.59-1.43-.59-.52 0-1.04.2-1.43.59L10.3 9.45l-7.72 7.72c-.78.78-.78 2.05 0 2.83L4 21.41c.39.39.9.59 1.41.59.51 0 1.02-.2 1.41-.59l7.78-7.78 2.81-2.81c.8-.78.8-2.07 0-2.86zM5.41 20L4 18.59l7.72-7.72 1.47 1.35L5.41 20z\"/>\n",
              "  </svg>\n",
              "      </button>\n",
              "      \n",
              "  <style>\n",
              "    .colab-df-container {\n",
              "      display:flex;\n",
              "      flex-wrap:wrap;\n",
              "      gap: 12px;\n",
              "    }\n",
              "\n",
              "    .colab-df-convert {\n",
              "      background-color: #E8F0FE;\n",
              "      border: none;\n",
              "      border-radius: 50%;\n",
              "      cursor: pointer;\n",
              "      display: none;\n",
              "      fill: #1967D2;\n",
              "      height: 32px;\n",
              "      padding: 0 0 0 0;\n",
              "      width: 32px;\n",
              "    }\n",
              "\n",
              "    .colab-df-convert:hover {\n",
              "      background-color: #E2EBFA;\n",
              "      box-shadow: 0px 1px 2px rgba(60, 64, 67, 0.3), 0px 1px 3px 1px rgba(60, 64, 67, 0.15);\n",
              "      fill: #174EA6;\n",
              "    }\n",
              "\n",
              "    [theme=dark] .colab-df-convert {\n",
              "      background-color: #3B4455;\n",
              "      fill: #D2E3FC;\n",
              "    }\n",
              "\n",
              "    [theme=dark] .colab-df-convert:hover {\n",
              "      background-color: #434B5C;\n",
              "      box-shadow: 0px 1px 3px 1px rgba(0, 0, 0, 0.15);\n",
              "      filter: drop-shadow(0px 1px 2px rgba(0, 0, 0, 0.3));\n",
              "      fill: #FFFFFF;\n",
              "    }\n",
              "  </style>\n",
              "\n",
              "      <script>\n",
              "        const buttonEl =\n",
              "          document.querySelector('#df-7f9a616a-7fd2-49e4-a59b-ab49ee5dc0ad button.colab-df-convert');\n",
              "        buttonEl.style.display =\n",
              "          google.colab.kernel.accessAllowed ? 'block' : 'none';\n",
              "\n",
              "        async function convertToInteractive(key) {\n",
              "          const element = document.querySelector('#df-7f9a616a-7fd2-49e4-a59b-ab49ee5dc0ad');\n",
              "          const dataTable =\n",
              "            await google.colab.kernel.invokeFunction('convertToInteractive',\n",
              "                                                     [key], {});\n",
              "          if (!dataTable) return;\n",
              "\n",
              "          const docLinkHtml = 'Like what you see? Visit the ' +\n",
              "            '<a target=\"_blank\" href=https://colab.research.google.com/notebooks/data_table.ipynb>data table notebook</a>'\n",
              "            + ' to learn more about interactive tables.';\n",
              "          element.innerHTML = '';\n",
              "          dataTable['output_type'] = 'display_data';\n",
              "          await google.colab.output.renderOutput(dataTable, element);\n",
              "          const docLink = document.createElement('div');\n",
              "          docLink.innerHTML = docLinkHtml;\n",
              "          element.appendChild(docLink);\n",
              "        }\n",
              "      </script>\n",
              "    </div>\n",
              "  </div>\n",
              "  "
            ]
          },
          "metadata": {},
          "execution_count": 15
        }
      ],
      "source": [
        "#Make a list of what you want to drop\n",
        "columns_to_drop = ['studyName', 'Comments']\n",
        "\n",
        "#Drop the columns using drop()\n",
        "penguins_dataframe.drop(columns_to_drop, axis=1, inplace = True) #axis = 1 lets pandas know we are dropping columns, not rows.\n",
        "\n",
        "#Check that they are dropped\n",
        "penguins_dataframe.head(1)"
      ]
    },
    {
      "cell_type": "markdown",
      "metadata": {
        "collapsed": false,
        "id": "AGA3dm-49yX-"
      },
      "source": [
        "**What does inplace mean?** This argument in the `drop()` function means we are changing the dataframe in place! If we had `inplace = False`, we would need to create a new dataframe like so:\n",
        "\n",
        "`new_penguins_dataframe = penguins_dataframe.drop(columns_to_drop, axis=1, inplace = False)`\n",
        "\n",
        "**TODO:** Can you drop the Sample Number, Individual ID, Delta 15 N \\(o/oo\\), and Delta 13 C \\(o/oo\\) columns using the example above?\n",
        "\n"
      ]
    },
    {
      "cell_type": "code",
      "execution_count": null,
      "metadata": {
        "id": "epSH_PnB9yX_",
        "colab": {
          "base_uri": "https://localhost:8080/",
          "height": 81
        },
        "outputId": "07c7b44e-efff-415d-8af5-021d7fee8b34"
      },
      "outputs": [
        {
          "output_type": "execute_result",
          "data": {
            "text/plain": [
              "                               Species  Region     Island               Stage  \\\n",
              "0  Adelie Penguin (Pygoscelis adeliae)  Anvers  Torgersen  Adult, 1 Egg Stage   \n",
              "\n",
              "  Clutch Completion    Date Egg  Culmen Length (mm)  Culmen Depth (mm)  \\\n",
              "0               Yes  2007-11-11                39.1               18.7   \n",
              "\n",
              "   Flipper Length (mm)  Body Mass (g)   Sex  \n",
              "0                181.0         3750.0  MALE  "
            ],
            "text/html": [
              "\n",
              "  <div id=\"df-64fcf597-2269-4aa5-a3d1-04b3c4b41bbd\">\n",
              "    <div class=\"colab-df-container\">\n",
              "      <div>\n",
              "<style scoped>\n",
              "    .dataframe tbody tr th:only-of-type {\n",
              "        vertical-align: middle;\n",
              "    }\n",
              "\n",
              "    .dataframe tbody tr th {\n",
              "        vertical-align: top;\n",
              "    }\n",
              "\n",
              "    .dataframe thead th {\n",
              "        text-align: right;\n",
              "    }\n",
              "</style>\n",
              "<table border=\"1\" class=\"dataframe\">\n",
              "  <thead>\n",
              "    <tr style=\"text-align: right;\">\n",
              "      <th></th>\n",
              "      <th>Species</th>\n",
              "      <th>Region</th>\n",
              "      <th>Island</th>\n",
              "      <th>Stage</th>\n",
              "      <th>Clutch Completion</th>\n",
              "      <th>Date Egg</th>\n",
              "      <th>Culmen Length (mm)</th>\n",
              "      <th>Culmen Depth (mm)</th>\n",
              "      <th>Flipper Length (mm)</th>\n",
              "      <th>Body Mass (g)</th>\n",
              "      <th>Sex</th>\n",
              "    </tr>\n",
              "  </thead>\n",
              "  <tbody>\n",
              "    <tr>\n",
              "      <th>0</th>\n",
              "      <td>Adelie Penguin (Pygoscelis adeliae)</td>\n",
              "      <td>Anvers</td>\n",
              "      <td>Torgersen</td>\n",
              "      <td>Adult, 1 Egg Stage</td>\n",
              "      <td>Yes</td>\n",
              "      <td>2007-11-11</td>\n",
              "      <td>39.1</td>\n",
              "      <td>18.7</td>\n",
              "      <td>181.0</td>\n",
              "      <td>3750.0</td>\n",
              "      <td>MALE</td>\n",
              "    </tr>\n",
              "  </tbody>\n",
              "</table>\n",
              "</div>\n",
              "      <button class=\"colab-df-convert\" onclick=\"convertToInteractive('df-64fcf597-2269-4aa5-a3d1-04b3c4b41bbd')\"\n",
              "              title=\"Convert this dataframe to an interactive table.\"\n",
              "              style=\"display:none;\">\n",
              "        \n",
              "  <svg xmlns=\"http://www.w3.org/2000/svg\" height=\"24px\"viewBox=\"0 0 24 24\"\n",
              "       width=\"24px\">\n",
              "    <path d=\"M0 0h24v24H0V0z\" fill=\"none\"/>\n",
              "    <path d=\"M18.56 5.44l.94 2.06.94-2.06 2.06-.94-2.06-.94-.94-2.06-.94 2.06-2.06.94zm-11 1L8.5 8.5l.94-2.06 2.06-.94-2.06-.94L8.5 2.5l-.94 2.06-2.06.94zm10 10l.94 2.06.94-2.06 2.06-.94-2.06-.94-.94-2.06-.94 2.06-2.06.94z\"/><path d=\"M17.41 7.96l-1.37-1.37c-.4-.4-.92-.59-1.43-.59-.52 0-1.04.2-1.43.59L10.3 9.45l-7.72 7.72c-.78.78-.78 2.05 0 2.83L4 21.41c.39.39.9.59 1.41.59.51 0 1.02-.2 1.41-.59l7.78-7.78 2.81-2.81c.8-.78.8-2.07 0-2.86zM5.41 20L4 18.59l7.72-7.72 1.47 1.35L5.41 20z\"/>\n",
              "  </svg>\n",
              "      </button>\n",
              "      \n",
              "  <style>\n",
              "    .colab-df-container {\n",
              "      display:flex;\n",
              "      flex-wrap:wrap;\n",
              "      gap: 12px;\n",
              "    }\n",
              "\n",
              "    .colab-df-convert {\n",
              "      background-color: #E8F0FE;\n",
              "      border: none;\n",
              "      border-radius: 50%;\n",
              "      cursor: pointer;\n",
              "      display: none;\n",
              "      fill: #1967D2;\n",
              "      height: 32px;\n",
              "      padding: 0 0 0 0;\n",
              "      width: 32px;\n",
              "    }\n",
              "\n",
              "    .colab-df-convert:hover {\n",
              "      background-color: #E2EBFA;\n",
              "      box-shadow: 0px 1px 2px rgba(60, 64, 67, 0.3), 0px 1px 3px 1px rgba(60, 64, 67, 0.15);\n",
              "      fill: #174EA6;\n",
              "    }\n",
              "\n",
              "    [theme=dark] .colab-df-convert {\n",
              "      background-color: #3B4455;\n",
              "      fill: #D2E3FC;\n",
              "    }\n",
              "\n",
              "    [theme=dark] .colab-df-convert:hover {\n",
              "      background-color: #434B5C;\n",
              "      box-shadow: 0px 1px 3px 1px rgba(0, 0, 0, 0.15);\n",
              "      filter: drop-shadow(0px 1px 2px rgba(0, 0, 0, 0.3));\n",
              "      fill: #FFFFFF;\n",
              "    }\n",
              "  </style>\n",
              "\n",
              "      <script>\n",
              "        const buttonEl =\n",
              "          document.querySelector('#df-64fcf597-2269-4aa5-a3d1-04b3c4b41bbd button.colab-df-convert');\n",
              "        buttonEl.style.display =\n",
              "          google.colab.kernel.accessAllowed ? 'block' : 'none';\n",
              "\n",
              "        async function convertToInteractive(key) {\n",
              "          const element = document.querySelector('#df-64fcf597-2269-4aa5-a3d1-04b3c4b41bbd');\n",
              "          const dataTable =\n",
              "            await google.colab.kernel.invokeFunction('convertToInteractive',\n",
              "                                                     [key], {});\n",
              "          if (!dataTable) return;\n",
              "\n",
              "          const docLinkHtml = 'Like what you see? Visit the ' +\n",
              "            '<a target=\"_blank\" href=https://colab.research.google.com/notebooks/data_table.ipynb>data table notebook</a>'\n",
              "            + ' to learn more about interactive tables.';\n",
              "          element.innerHTML = '';\n",
              "          dataTable['output_type'] = 'display_data';\n",
              "          await google.colab.output.renderOutput(dataTable, element);\n",
              "          const docLink = document.createElement('div');\n",
              "          docLink.innerHTML = docLinkHtml;\n",
              "          element.appendChild(docLink);\n",
              "        }\n",
              "      </script>\n",
              "    </div>\n",
              "  </div>\n",
              "  "
            ]
          },
          "metadata": {},
          "execution_count": 16
        }
      ],
      "source": [
        "# Drop the Sample Number, Individual ID, Delta 15 N (o/oo), and Delta 13 C (o/oo) columns using the example above.\n",
        "\n",
        "columns_to_drop = ['Sample Number', 'Individual ID', 'Delta 15 N (o/oo)', 'Delta 13 C (o/oo)']\n",
        "#Drop the columns using drop()\n",
        "penguins_dataframe.drop(columns_to_drop, axis=1, inplace = True)\n",
        "\n",
        "#Check that they are dropped\n",
        "penguins_dataframe.head(1)"
      ]
    },
    {
      "cell_type": "code",
      "source": [
        "#Second Check\n",
        "penguins_dataframe.head(1)"
      ],
      "metadata": {
        "colab": {
          "base_uri": "https://localhost:8080/",
          "height": 81
        },
        "id": "6ql5EFXQUwya",
        "outputId": "0d1aaa44-d59b-4721-8354-83e1f91b978f"
      },
      "execution_count": null,
      "outputs": [
        {
          "output_type": "execute_result",
          "data": {
            "text/plain": [
              "                               Species  Region     Island               Stage  \\\n",
              "0  Adelie Penguin (Pygoscelis adeliae)  Anvers  Torgersen  Adult, 1 Egg Stage   \n",
              "\n",
              "  Clutch Completion    Date Egg  Culmen Length (mm)  Culmen Depth (mm)  \\\n",
              "0               Yes  2007-11-11                39.1               18.7   \n",
              "\n",
              "   Flipper Length (mm)  Body Mass (g)   Sex  \n",
              "0                181.0         3750.0  MALE  "
            ],
            "text/html": [
              "\n",
              "  <div id=\"df-fad65e34-d697-4f49-98c9-ac5d6d79d403\">\n",
              "    <div class=\"colab-df-container\">\n",
              "      <div>\n",
              "<style scoped>\n",
              "    .dataframe tbody tr th:only-of-type {\n",
              "        vertical-align: middle;\n",
              "    }\n",
              "\n",
              "    .dataframe tbody tr th {\n",
              "        vertical-align: top;\n",
              "    }\n",
              "\n",
              "    .dataframe thead th {\n",
              "        text-align: right;\n",
              "    }\n",
              "</style>\n",
              "<table border=\"1\" class=\"dataframe\">\n",
              "  <thead>\n",
              "    <tr style=\"text-align: right;\">\n",
              "      <th></th>\n",
              "      <th>Species</th>\n",
              "      <th>Region</th>\n",
              "      <th>Island</th>\n",
              "      <th>Stage</th>\n",
              "      <th>Clutch Completion</th>\n",
              "      <th>Date Egg</th>\n",
              "      <th>Culmen Length (mm)</th>\n",
              "      <th>Culmen Depth (mm)</th>\n",
              "      <th>Flipper Length (mm)</th>\n",
              "      <th>Body Mass (g)</th>\n",
              "      <th>Sex</th>\n",
              "    </tr>\n",
              "  </thead>\n",
              "  <tbody>\n",
              "    <tr>\n",
              "      <th>0</th>\n",
              "      <td>Adelie Penguin (Pygoscelis adeliae)</td>\n",
              "      <td>Anvers</td>\n",
              "      <td>Torgersen</td>\n",
              "      <td>Adult, 1 Egg Stage</td>\n",
              "      <td>Yes</td>\n",
              "      <td>2007-11-11</td>\n",
              "      <td>39.1</td>\n",
              "      <td>18.7</td>\n",
              "      <td>181.0</td>\n",
              "      <td>3750.0</td>\n",
              "      <td>MALE</td>\n",
              "    </tr>\n",
              "  </tbody>\n",
              "</table>\n",
              "</div>\n",
              "      <button class=\"colab-df-convert\" onclick=\"convertToInteractive('df-fad65e34-d697-4f49-98c9-ac5d6d79d403')\"\n",
              "              title=\"Convert this dataframe to an interactive table.\"\n",
              "              style=\"display:none;\">\n",
              "        \n",
              "  <svg xmlns=\"http://www.w3.org/2000/svg\" height=\"24px\"viewBox=\"0 0 24 24\"\n",
              "       width=\"24px\">\n",
              "    <path d=\"M0 0h24v24H0V0z\" fill=\"none\"/>\n",
              "    <path d=\"M18.56 5.44l.94 2.06.94-2.06 2.06-.94-2.06-.94-.94-2.06-.94 2.06-2.06.94zm-11 1L8.5 8.5l.94-2.06 2.06-.94-2.06-.94L8.5 2.5l-.94 2.06-2.06.94zm10 10l.94 2.06.94-2.06 2.06-.94-2.06-.94-.94-2.06-.94 2.06-2.06.94z\"/><path d=\"M17.41 7.96l-1.37-1.37c-.4-.4-.92-.59-1.43-.59-.52 0-1.04.2-1.43.59L10.3 9.45l-7.72 7.72c-.78.78-.78 2.05 0 2.83L4 21.41c.39.39.9.59 1.41.59.51 0 1.02-.2 1.41-.59l7.78-7.78 2.81-2.81c.8-.78.8-2.07 0-2.86zM5.41 20L4 18.59l7.72-7.72 1.47 1.35L5.41 20z\"/>\n",
              "  </svg>\n",
              "      </button>\n",
              "      \n",
              "  <style>\n",
              "    .colab-df-container {\n",
              "      display:flex;\n",
              "      flex-wrap:wrap;\n",
              "      gap: 12px;\n",
              "    }\n",
              "\n",
              "    .colab-df-convert {\n",
              "      background-color: #E8F0FE;\n",
              "      border: none;\n",
              "      border-radius: 50%;\n",
              "      cursor: pointer;\n",
              "      display: none;\n",
              "      fill: #1967D2;\n",
              "      height: 32px;\n",
              "      padding: 0 0 0 0;\n",
              "      width: 32px;\n",
              "    }\n",
              "\n",
              "    .colab-df-convert:hover {\n",
              "      background-color: #E2EBFA;\n",
              "      box-shadow: 0px 1px 2px rgba(60, 64, 67, 0.3), 0px 1px 3px 1px rgba(60, 64, 67, 0.15);\n",
              "      fill: #174EA6;\n",
              "    }\n",
              "\n",
              "    [theme=dark] .colab-df-convert {\n",
              "      background-color: #3B4455;\n",
              "      fill: #D2E3FC;\n",
              "    }\n",
              "\n",
              "    [theme=dark] .colab-df-convert:hover {\n",
              "      background-color: #434B5C;\n",
              "      box-shadow: 0px 1px 3px 1px rgba(0, 0, 0, 0.15);\n",
              "      filter: drop-shadow(0px 1px 2px rgba(0, 0, 0, 0.3));\n",
              "      fill: #FFFFFF;\n",
              "    }\n",
              "  </style>\n",
              "\n",
              "      <script>\n",
              "        const buttonEl =\n",
              "          document.querySelector('#df-fad65e34-d697-4f49-98c9-ac5d6d79d403 button.colab-df-convert');\n",
              "        buttonEl.style.display =\n",
              "          google.colab.kernel.accessAllowed ? 'block' : 'none';\n",
              "\n",
              "        async function convertToInteractive(key) {\n",
              "          const element = document.querySelector('#df-fad65e34-d697-4f49-98c9-ac5d6d79d403');\n",
              "          const dataTable =\n",
              "            await google.colab.kernel.invokeFunction('convertToInteractive',\n",
              "                                                     [key], {});\n",
              "          if (!dataTable) return;\n",
              "\n",
              "          const docLinkHtml = 'Like what you see? Visit the ' +\n",
              "            '<a target=\"_blank\" href=https://colab.research.google.com/notebooks/data_table.ipynb>data table notebook</a>'\n",
              "            + ' to learn more about interactive tables.';\n",
              "          element.innerHTML = '';\n",
              "          dataTable['output_type'] = 'display_data';\n",
              "          await google.colab.output.renderOutput(dataTable, element);\n",
              "          const docLink = document.createElement('div');\n",
              "          docLink.innerHTML = docLinkHtml;\n",
              "          element.appendChild(docLink);\n",
              "        }\n",
              "      </script>\n",
              "    </div>\n",
              "  </div>\n",
              "  "
            ]
          },
          "metadata": {},
          "execution_count": 17
        }
      ]
    },
    {
      "cell_type": "markdown",
      "metadata": {
        "collapsed": false,
        "id": "g50cZfR99yYB"
      },
      "source": [
        "#### Getting Rid of N/A's\n",
        "\n",
        "I see lots of N/A's, which we typically cannot visualize or use in machine learning.\n",
        "Now, I want to get rid of all the rows that have NA's in them. I'll show you how. **TODO:** Can you print the number of rows our dataframe has after I drop the NAs?\n"
      ]
    },
    {
      "cell_type": "code",
      "execution_count": null,
      "metadata": {
        "id": "rQ1EtGzi9yYC"
      },
      "outputs": [],
      "source": [
        "# This is a very convenient function to drop all rows that have N/A values!\n",
        "penguins_dataframe.dropna(inplace=True)\n",
        "penguins_dataframe.reset_index(drop=True, inplace=True) #Very good practice to reset how your rows are counted when you drop rows."
      ]
    },
    {
      "cell_type": "code",
      "execution_count": null,
      "metadata": {
        "id": "a-nxS0je9yYC",
        "colab": {
          "base_uri": "https://localhost:8080/"
        },
        "outputId": "489e5269-24ba-4611-c452-bb8992fe7567"
      },
      "outputs": [
        {
          "output_type": "execute_result",
          "data": {
            "text/plain": [
              "333"
            ]
          },
          "metadata": {},
          "execution_count": 19
        }
      ],
      "source": [
        "#Print the number of rows our new dataframe has.\n",
        "penguins_dataframe.shape[0]"
      ]
    },
    {
      "cell_type": "markdown",
      "metadata": {
        "collapsed": false,
        "id": "skphZSwa9yYG"
      },
      "source": [
        "### Exploring the Data\n",
        "\n",
        "Pandas has some amazing tools for exploring your data. Since this is a **mini** project, we will walk through only a few key features of pandas exploration. You can expect to do lots of research on your own to best explore, clean, and visualize your data for your project.\n",
        "\n",
        "First we will learn how to access certain columns of data and use conditions to get subsets of data.\n",
        "\n"
      ]
    },
    {
      "cell_type": "code",
      "execution_count": null,
      "metadata": {
        "id": "urFw0zcN9yYH",
        "outputId": "07630d03-0708-4c7b-c86c-b747b6be1905",
        "colab": {
          "base_uri": "https://localhost:8080/"
        }
      },
      "outputs": [
        {
          "output_type": "execute_result",
          "data": {
            "text/plain": [
              "0    Adelie Penguin (Pygoscelis adeliae)\n",
              "1    Adelie Penguin (Pygoscelis adeliae)\n",
              "2    Adelie Penguin (Pygoscelis adeliae)\n",
              "3    Adelie Penguin (Pygoscelis adeliae)\n",
              "4    Adelie Penguin (Pygoscelis adeliae)\n",
              "Name: Species, dtype: object"
            ]
          },
          "metadata": {},
          "execution_count": 20
        }
      ],
      "source": [
        "# access a column using df[\"<COLUMN_NAME\"] or df.COLUMN_NAME\n",
        "penguins_dataframe[\"Species\"].head()"
      ]
    },
    {
      "cell_type": "code",
      "execution_count": null,
      "metadata": {
        "id": "rVrxNGyk9yYM",
        "outputId": "a6c4fa3f-d12d-422e-84c2-bcb0702e49f9"
      },
      "outputs": [
        {
          "data": {
            "text/plain": [
              "0    Adelie Penguin (Pygoscelis adeliae)\n",
              "1    Adelie Penguin (Pygoscelis adeliae)\n",
              "2    Adelie Penguin (Pygoscelis adeliae)\n",
              "3    Adelie Penguin (Pygoscelis adeliae)\n",
              "4    Adelie Penguin (Pygoscelis adeliae)\n",
              "Name: Species, dtype: object"
            ]
          },
          "execution_count": 12,
          "metadata": {},
          "output_type": "execute_result"
        }
      ],
      "source": [
        "penguins_dataframe.Species.head()"
      ]
    },
    {
      "cell_type": "code",
      "execution_count": null,
      "metadata": {
        "id": "jmtuvUrb9yYP",
        "outputId": "a7435065-9b84-471e-841c-2200a60b0e71"
      },
      "outputs": [
        {
          "data": {
            "text/html": [
              "<div>\n",
              "<style scoped>\n",
              "    .dataframe tbody tr th:only-of-type {\n",
              "        vertical-align: middle;\n",
              "    }\n",
              "\n",
              "    .dataframe tbody tr th {\n",
              "        vertical-align: top;\n",
              "    }\n",
              "\n",
              "    .dataframe thead th {\n",
              "        text-align: right;\n",
              "    }\n",
              "</style>\n",
              "<table border=\"1\" class=\"dataframe\">\n",
              "  <thead>\n",
              "    <tr style=\"text-align: right;\">\n",
              "      <th></th>\n",
              "      <th>Species</th>\n",
              "      <th>Region</th>\n",
              "    </tr>\n",
              "  </thead>\n",
              "  <tbody>\n",
              "    <tr>\n",
              "      <th>0</th>\n",
              "      <td>Adelie Penguin (Pygoscelis adeliae)</td>\n",
              "      <td>Anvers</td>\n",
              "    </tr>\n",
              "    <tr>\n",
              "      <th>1</th>\n",
              "      <td>Adelie Penguin (Pygoscelis adeliae)</td>\n",
              "      <td>Anvers</td>\n",
              "    </tr>\n",
              "    <tr>\n",
              "      <th>2</th>\n",
              "      <td>Adelie Penguin (Pygoscelis adeliae)</td>\n",
              "      <td>Anvers</td>\n",
              "    </tr>\n",
              "    <tr>\n",
              "      <th>3</th>\n",
              "      <td>Adelie Penguin (Pygoscelis adeliae)</td>\n",
              "      <td>Anvers</td>\n",
              "    </tr>\n",
              "    <tr>\n",
              "      <th>4</th>\n",
              "      <td>Adelie Penguin (Pygoscelis adeliae)</td>\n",
              "      <td>Anvers</td>\n",
              "    </tr>\n",
              "  </tbody>\n",
              "</table>\n",
              "</div>"
            ],
            "text/plain": [
              "                               Species  Region\n",
              "0  Adelie Penguin (Pygoscelis adeliae)  Anvers\n",
              "1  Adelie Penguin (Pygoscelis adeliae)  Anvers\n",
              "2  Adelie Penguin (Pygoscelis adeliae)  Anvers\n",
              "3  Adelie Penguin (Pygoscelis adeliae)  Anvers\n",
              "4  Adelie Penguin (Pygoscelis adeliae)  Anvers"
            ]
          },
          "execution_count": 13,
          "metadata": {},
          "output_type": "execute_result"
        }
      ],
      "source": [
        "#You can also access multiple columns using double brackets (printing a \"list\" of columns)\n",
        "penguins_dataframe[[\"Species\",\"Region\"]].head()"
      ]
    },
    {
      "cell_type": "markdown",
      "metadata": {
        "collapsed": false,
        "id": "vI-bl2LB9yYR"
      },
      "source": [
        "**TODO: Can you print the last five rows of the Island and Region columns?**\n",
        "\n"
      ]
    },
    {
      "cell_type": "code",
      "execution_count": null,
      "metadata": {
        "id": "InpH4dh59yYR",
        "colab": {
          "base_uri": "https://localhost:8080/",
          "height": 206
        },
        "outputId": "35452a6e-7416-44a4-ee0f-a93c7871a33e"
      },
      "outputs": [
        {
          "output_type": "execute_result",
          "data": {
            "text/plain": [
              "    Island  Region\n",
              "328  Dream  Anvers\n",
              "329  Dream  Anvers\n",
              "330  Dream  Anvers\n",
              "331  Dream  Anvers\n",
              "332  Dream  Anvers"
            ],
            "text/html": [
              "\n",
              "  <div id=\"df-3378198b-2a7e-48f6-9b9e-524dc0fb5387\">\n",
              "    <div class=\"colab-df-container\">\n",
              "      <div>\n",
              "<style scoped>\n",
              "    .dataframe tbody tr th:only-of-type {\n",
              "        vertical-align: middle;\n",
              "    }\n",
              "\n",
              "    .dataframe tbody tr th {\n",
              "        vertical-align: top;\n",
              "    }\n",
              "\n",
              "    .dataframe thead th {\n",
              "        text-align: right;\n",
              "    }\n",
              "</style>\n",
              "<table border=\"1\" class=\"dataframe\">\n",
              "  <thead>\n",
              "    <tr style=\"text-align: right;\">\n",
              "      <th></th>\n",
              "      <th>Island</th>\n",
              "      <th>Region</th>\n",
              "    </tr>\n",
              "  </thead>\n",
              "  <tbody>\n",
              "    <tr>\n",
              "      <th>328</th>\n",
              "      <td>Dream</td>\n",
              "      <td>Anvers</td>\n",
              "    </tr>\n",
              "    <tr>\n",
              "      <th>329</th>\n",
              "      <td>Dream</td>\n",
              "      <td>Anvers</td>\n",
              "    </tr>\n",
              "    <tr>\n",
              "      <th>330</th>\n",
              "      <td>Dream</td>\n",
              "      <td>Anvers</td>\n",
              "    </tr>\n",
              "    <tr>\n",
              "      <th>331</th>\n",
              "      <td>Dream</td>\n",
              "      <td>Anvers</td>\n",
              "    </tr>\n",
              "    <tr>\n",
              "      <th>332</th>\n",
              "      <td>Dream</td>\n",
              "      <td>Anvers</td>\n",
              "    </tr>\n",
              "  </tbody>\n",
              "</table>\n",
              "</div>\n",
              "      <button class=\"colab-df-convert\" onclick=\"convertToInteractive('df-3378198b-2a7e-48f6-9b9e-524dc0fb5387')\"\n",
              "              title=\"Convert this dataframe to an interactive table.\"\n",
              "              style=\"display:none;\">\n",
              "        \n",
              "  <svg xmlns=\"http://www.w3.org/2000/svg\" height=\"24px\"viewBox=\"0 0 24 24\"\n",
              "       width=\"24px\">\n",
              "    <path d=\"M0 0h24v24H0V0z\" fill=\"none\"/>\n",
              "    <path d=\"M18.56 5.44l.94 2.06.94-2.06 2.06-.94-2.06-.94-.94-2.06-.94 2.06-2.06.94zm-11 1L8.5 8.5l.94-2.06 2.06-.94-2.06-.94L8.5 2.5l-.94 2.06-2.06.94zm10 10l.94 2.06.94-2.06 2.06-.94-2.06-.94-.94-2.06-.94 2.06-2.06.94z\"/><path d=\"M17.41 7.96l-1.37-1.37c-.4-.4-.92-.59-1.43-.59-.52 0-1.04.2-1.43.59L10.3 9.45l-7.72 7.72c-.78.78-.78 2.05 0 2.83L4 21.41c.39.39.9.59 1.41.59.51 0 1.02-.2 1.41-.59l7.78-7.78 2.81-2.81c.8-.78.8-2.07 0-2.86zM5.41 20L4 18.59l7.72-7.72 1.47 1.35L5.41 20z\"/>\n",
              "  </svg>\n",
              "      </button>\n",
              "      \n",
              "  <style>\n",
              "    .colab-df-container {\n",
              "      display:flex;\n",
              "      flex-wrap:wrap;\n",
              "      gap: 12px;\n",
              "    }\n",
              "\n",
              "    .colab-df-convert {\n",
              "      background-color: #E8F0FE;\n",
              "      border: none;\n",
              "      border-radius: 50%;\n",
              "      cursor: pointer;\n",
              "      display: none;\n",
              "      fill: #1967D2;\n",
              "      height: 32px;\n",
              "      padding: 0 0 0 0;\n",
              "      width: 32px;\n",
              "    }\n",
              "\n",
              "    .colab-df-convert:hover {\n",
              "      background-color: #E2EBFA;\n",
              "      box-shadow: 0px 1px 2px rgba(60, 64, 67, 0.3), 0px 1px 3px 1px rgba(60, 64, 67, 0.15);\n",
              "      fill: #174EA6;\n",
              "    }\n",
              "\n",
              "    [theme=dark] .colab-df-convert {\n",
              "      background-color: #3B4455;\n",
              "      fill: #D2E3FC;\n",
              "    }\n",
              "\n",
              "    [theme=dark] .colab-df-convert:hover {\n",
              "      background-color: #434B5C;\n",
              "      box-shadow: 0px 1px 3px 1px rgba(0, 0, 0, 0.15);\n",
              "      filter: drop-shadow(0px 1px 2px rgba(0, 0, 0, 0.3));\n",
              "      fill: #FFFFFF;\n",
              "    }\n",
              "  </style>\n",
              "\n",
              "      <script>\n",
              "        const buttonEl =\n",
              "          document.querySelector('#df-3378198b-2a7e-48f6-9b9e-524dc0fb5387 button.colab-df-convert');\n",
              "        buttonEl.style.display =\n",
              "          google.colab.kernel.accessAllowed ? 'block' : 'none';\n",
              "\n",
              "        async function convertToInteractive(key) {\n",
              "          const element = document.querySelector('#df-3378198b-2a7e-48f6-9b9e-524dc0fb5387');\n",
              "          const dataTable =\n",
              "            await google.colab.kernel.invokeFunction('convertToInteractive',\n",
              "                                                     [key], {});\n",
              "          if (!dataTable) return;\n",
              "\n",
              "          const docLinkHtml = 'Like what you see? Visit the ' +\n",
              "            '<a target=\"_blank\" href=https://colab.research.google.com/notebooks/data_table.ipynb>data table notebook</a>'\n",
              "            + ' to learn more about interactive tables.';\n",
              "          element.innerHTML = '';\n",
              "          dataTable['output_type'] = 'display_data';\n",
              "          await google.colab.output.renderOutput(dataTable, element);\n",
              "          const docLink = document.createElement('div');\n",
              "          docLink.innerHTML = docLinkHtml;\n",
              "          element.appendChild(docLink);\n",
              "        }\n",
              "      </script>\n",
              "    </div>\n",
              "  </div>\n",
              "  "
            ]
          },
          "metadata": {},
          "execution_count": 21
        }
      ],
      "source": [
        "#Print the last five rows of the Island and Region columns.\n",
        "penguins_dataframe[[\"Island\",\"Region\"]].tail(5)"
      ]
    },
    {
      "cell_type": "markdown",
      "metadata": {
        "collapsed": false,
        "id": "gpBIBVNH9yYS"
      },
      "source": [
        "<u>**Conditions in Pandas**</u>\n",
        "\n",
        "Pandas is also incredible for selecting subsets of columns that fit a certain condition. Check out the code below to get only the Adelie penguins.\n",
        "\n"
      ]
    },
    {
      "cell_type": "code",
      "execution_count": null,
      "metadata": {
        "id": "N5F9inin9yYT",
        "outputId": "cd9dec0c-8cbe-470d-88a6-7d344e1ff6b4"
      },
      "outputs": [
        {
          "data": {
            "text/html": [
              "<div>\n",
              "<style scoped>\n",
              "    .dataframe tbody tr th:only-of-type {\n",
              "        vertical-align: middle;\n",
              "    }\n",
              "\n",
              "    .dataframe tbody tr th {\n",
              "        vertical-align: top;\n",
              "    }\n",
              "\n",
              "    .dataframe thead th {\n",
              "        text-align: right;\n",
              "    }\n",
              "</style>\n",
              "<table border=\"1\" class=\"dataframe\">\n",
              "  <thead>\n",
              "    <tr style=\"text-align: right;\">\n",
              "      <th></th>\n",
              "      <th>Sample Number</th>\n",
              "      <th>Species</th>\n",
              "      <th>Region</th>\n",
              "      <th>Island</th>\n",
              "      <th>Stage</th>\n",
              "      <th>Individual ID</th>\n",
              "      <th>Clutch Completion</th>\n",
              "      <th>Date Egg</th>\n",
              "      <th>Culmen Length (mm)</th>\n",
              "      <th>Culmen Depth (mm)</th>\n",
              "      <th>Flipper Length (mm)</th>\n",
              "      <th>Body Mass (g)</th>\n",
              "      <th>Sex</th>\n",
              "      <th>Delta 15 N (o/oo)</th>\n",
              "      <th>Delta 13 C (o/oo)</th>\n",
              "    </tr>\n",
              "  </thead>\n",
              "  <tbody>\n",
              "    <tr>\n",
              "      <th>0</th>\n",
              "      <td>2</td>\n",
              "      <td>Adelie Penguin (Pygoscelis adeliae)</td>\n",
              "      <td>Anvers</td>\n",
              "      <td>Torgersen</td>\n",
              "      <td>Adult, 1 Egg Stage</td>\n",
              "      <td>N1A2</td>\n",
              "      <td>Yes</td>\n",
              "      <td>2007-11-11</td>\n",
              "      <td>39.5</td>\n",
              "      <td>17.4</td>\n",
              "      <td>186.0</td>\n",
              "      <td>3800.0</td>\n",
              "      <td>FEMALE</td>\n",
              "      <td>8.94956</td>\n",
              "      <td>-24.69454</td>\n",
              "    </tr>\n",
              "    <tr>\n",
              "      <th>1</th>\n",
              "      <td>3</td>\n",
              "      <td>Adelie Penguin (Pygoscelis adeliae)</td>\n",
              "      <td>Anvers</td>\n",
              "      <td>Torgersen</td>\n",
              "      <td>Adult, 1 Egg Stage</td>\n",
              "      <td>N2A1</td>\n",
              "      <td>Yes</td>\n",
              "      <td>2007-11-16</td>\n",
              "      <td>40.3</td>\n",
              "      <td>18.0</td>\n",
              "      <td>195.0</td>\n",
              "      <td>3250.0</td>\n",
              "      <td>FEMALE</td>\n",
              "      <td>8.36821</td>\n",
              "      <td>-25.33302</td>\n",
              "    </tr>\n",
              "    <tr>\n",
              "      <th>2</th>\n",
              "      <td>5</td>\n",
              "      <td>Adelie Penguin (Pygoscelis adeliae)</td>\n",
              "      <td>Anvers</td>\n",
              "      <td>Torgersen</td>\n",
              "      <td>Adult, 1 Egg Stage</td>\n",
              "      <td>N3A1</td>\n",
              "      <td>Yes</td>\n",
              "      <td>2007-11-16</td>\n",
              "      <td>36.7</td>\n",
              "      <td>19.3</td>\n",
              "      <td>193.0</td>\n",
              "      <td>3450.0</td>\n",
              "      <td>FEMALE</td>\n",
              "      <td>8.76651</td>\n",
              "      <td>-25.32426</td>\n",
              "    </tr>\n",
              "    <tr>\n",
              "      <th>3</th>\n",
              "      <td>6</td>\n",
              "      <td>Adelie Penguin (Pygoscelis adeliae)</td>\n",
              "      <td>Anvers</td>\n",
              "      <td>Torgersen</td>\n",
              "      <td>Adult, 1 Egg Stage</td>\n",
              "      <td>N3A2</td>\n",
              "      <td>Yes</td>\n",
              "      <td>2007-11-16</td>\n",
              "      <td>39.3</td>\n",
              "      <td>20.6</td>\n",
              "      <td>190.0</td>\n",
              "      <td>3650.0</td>\n",
              "      <td>MALE</td>\n",
              "      <td>8.66496</td>\n",
              "      <td>-25.29805</td>\n",
              "    </tr>\n",
              "    <tr>\n",
              "      <th>4</th>\n",
              "      <td>7</td>\n",
              "      <td>Adelie Penguin (Pygoscelis adeliae)</td>\n",
              "      <td>Anvers</td>\n",
              "      <td>Torgersen</td>\n",
              "      <td>Adult, 1 Egg Stage</td>\n",
              "      <td>N4A1</td>\n",
              "      <td>No</td>\n",
              "      <td>2007-11-15</td>\n",
              "      <td>38.9</td>\n",
              "      <td>17.8</td>\n",
              "      <td>181.0</td>\n",
              "      <td>3625.0</td>\n",
              "      <td>FEMALE</td>\n",
              "      <td>9.18718</td>\n",
              "      <td>-25.21799</td>\n",
              "    </tr>\n",
              "  </tbody>\n",
              "</table>\n",
              "</div>"
            ],
            "text/plain": [
              "   Sample Number                              Species  Region     Island  \\\n",
              "0              2  Adelie Penguin (Pygoscelis adeliae)  Anvers  Torgersen   \n",
              "1              3  Adelie Penguin (Pygoscelis adeliae)  Anvers  Torgersen   \n",
              "2              5  Adelie Penguin (Pygoscelis adeliae)  Anvers  Torgersen   \n",
              "3              6  Adelie Penguin (Pygoscelis adeliae)  Anvers  Torgersen   \n",
              "4              7  Adelie Penguin (Pygoscelis adeliae)  Anvers  Torgersen   \n",
              "\n",
              "                Stage Individual ID Clutch Completion    Date Egg  \\\n",
              "0  Adult, 1 Egg Stage          N1A2               Yes  2007-11-11   \n",
              "1  Adult, 1 Egg Stage          N2A1               Yes  2007-11-16   \n",
              "2  Adult, 1 Egg Stage          N3A1               Yes  2007-11-16   \n",
              "3  Adult, 1 Egg Stage          N3A2               Yes  2007-11-16   \n",
              "4  Adult, 1 Egg Stage          N4A1                No  2007-11-15   \n",
              "\n",
              "   Culmen Length (mm)  Culmen Depth (mm)  Flipper Length (mm)  Body Mass (g)  \\\n",
              "0                39.5               17.4                186.0         3800.0   \n",
              "1                40.3               18.0                195.0         3250.0   \n",
              "2                36.7               19.3                193.0         3450.0   \n",
              "3                39.3               20.6                190.0         3650.0   \n",
              "4                38.9               17.8                181.0         3625.0   \n",
              "\n",
              "      Sex  Delta 15 N (o/oo)  Delta 13 C (o/oo)  \n",
              "0  FEMALE            8.94956          -24.69454  \n",
              "1  FEMALE            8.36821          -25.33302  \n",
              "2  FEMALE            8.76651          -25.32426  \n",
              "3    MALE            8.66496          -25.29805  \n",
              "4  FEMALE            9.18718          -25.21799  "
            ]
          },
          "execution_count": 15,
          "metadata": {},
          "output_type": "execute_result"
        }
      ],
      "source": [
        "penguins_dataframe[penguins_dataframe[\"Species\"] == \"Adelie Penguin (Pygoscelis adeliae)\"].head()"
      ]
    },
    {
      "cell_type": "markdown",
      "metadata": {
        "collapsed": false,
        "id": "aYwua12Y9yYU"
      },
      "source": [
        "Conditions in pandas work just like `if` statements in python.\n",
        "\n",
        "**TODO: Can you tell me which species of penguin can have a flipper length greater than or equal to 230 by using conditions in pandas?**\n",
        "\n"
      ]
    },
    {
      "cell_type": "code",
      "execution_count": null,
      "metadata": {
        "id": "zcSgr73_9yYV",
        "colab": {
          "base_uri": "https://localhost:8080/",
          "height": 206
        },
        "outputId": "33f9494d-1967-4523-9a5b-7dad630cd21f"
      },
      "outputs": [
        {
          "output_type": "execute_result",
          "data": {
            "text/plain": [
              "                               Species  Region  Island               Stage  \\\n",
              "147  Gentoo penguin (Pygoscelis papua)  Anvers  Biscoe  Adult, 1 Egg Stage   \n",
              "178  Gentoo penguin (Pygoscelis papua)  Anvers  Biscoe  Adult, 1 Egg Stage   \n",
              "208  Gentoo penguin (Pygoscelis papua)  Anvers  Biscoe  Adult, 1 Egg Stage   \n",
              "210  Gentoo penguin (Pygoscelis papua)  Anvers  Biscoe  Adult, 1 Egg Stage   \n",
              "219  Gentoo penguin (Pygoscelis papua)  Anvers  Biscoe  Adult, 1 Egg Stage   \n",
              "\n",
              "    Clutch Completion    Date Egg  Culmen Length (mm)  Culmen Depth (mm)  \\\n",
              "147               Yes  2007-11-27                50.0               16.3   \n",
              "178               Yes  2007-12-03                59.6               17.0   \n",
              "208               Yes  2008-11-13                54.3               15.7   \n",
              "210               Yes  2008-11-04                49.8               16.8   \n",
              "219               Yes  2008-11-06                48.6               16.0   \n",
              "\n",
              "     Flipper Length (mm)  Body Mass (g)   Sex  \n",
              "147                230.0         5700.0  MALE  \n",
              "178                230.0         6050.0  MALE  \n",
              "208                231.0         5650.0  MALE  \n",
              "210                230.0         5700.0  MALE  \n",
              "219                230.0         5800.0  MALE  "
            ],
            "text/html": [
              "\n",
              "  <div id=\"df-7cc61ebd-5bea-4236-a44a-0f8c5ed1c33e\">\n",
              "    <div class=\"colab-df-container\">\n",
              "      <div>\n",
              "<style scoped>\n",
              "    .dataframe tbody tr th:only-of-type {\n",
              "        vertical-align: middle;\n",
              "    }\n",
              "\n",
              "    .dataframe tbody tr th {\n",
              "        vertical-align: top;\n",
              "    }\n",
              "\n",
              "    .dataframe thead th {\n",
              "        text-align: right;\n",
              "    }\n",
              "</style>\n",
              "<table border=\"1\" class=\"dataframe\">\n",
              "  <thead>\n",
              "    <tr style=\"text-align: right;\">\n",
              "      <th></th>\n",
              "      <th>Species</th>\n",
              "      <th>Region</th>\n",
              "      <th>Island</th>\n",
              "      <th>Stage</th>\n",
              "      <th>Clutch Completion</th>\n",
              "      <th>Date Egg</th>\n",
              "      <th>Culmen Length (mm)</th>\n",
              "      <th>Culmen Depth (mm)</th>\n",
              "      <th>Flipper Length (mm)</th>\n",
              "      <th>Body Mass (g)</th>\n",
              "      <th>Sex</th>\n",
              "    </tr>\n",
              "  </thead>\n",
              "  <tbody>\n",
              "    <tr>\n",
              "      <th>147</th>\n",
              "      <td>Gentoo penguin (Pygoscelis papua)</td>\n",
              "      <td>Anvers</td>\n",
              "      <td>Biscoe</td>\n",
              "      <td>Adult, 1 Egg Stage</td>\n",
              "      <td>Yes</td>\n",
              "      <td>2007-11-27</td>\n",
              "      <td>50.0</td>\n",
              "      <td>16.3</td>\n",
              "      <td>230.0</td>\n",
              "      <td>5700.0</td>\n",
              "      <td>MALE</td>\n",
              "    </tr>\n",
              "    <tr>\n",
              "      <th>178</th>\n",
              "      <td>Gentoo penguin (Pygoscelis papua)</td>\n",
              "      <td>Anvers</td>\n",
              "      <td>Biscoe</td>\n",
              "      <td>Adult, 1 Egg Stage</td>\n",
              "      <td>Yes</td>\n",
              "      <td>2007-12-03</td>\n",
              "      <td>59.6</td>\n",
              "      <td>17.0</td>\n",
              "      <td>230.0</td>\n",
              "      <td>6050.0</td>\n",
              "      <td>MALE</td>\n",
              "    </tr>\n",
              "    <tr>\n",
              "      <th>208</th>\n",
              "      <td>Gentoo penguin (Pygoscelis papua)</td>\n",
              "      <td>Anvers</td>\n",
              "      <td>Biscoe</td>\n",
              "      <td>Adult, 1 Egg Stage</td>\n",
              "      <td>Yes</td>\n",
              "      <td>2008-11-13</td>\n",
              "      <td>54.3</td>\n",
              "      <td>15.7</td>\n",
              "      <td>231.0</td>\n",
              "      <td>5650.0</td>\n",
              "      <td>MALE</td>\n",
              "    </tr>\n",
              "    <tr>\n",
              "      <th>210</th>\n",
              "      <td>Gentoo penguin (Pygoscelis papua)</td>\n",
              "      <td>Anvers</td>\n",
              "      <td>Biscoe</td>\n",
              "      <td>Adult, 1 Egg Stage</td>\n",
              "      <td>Yes</td>\n",
              "      <td>2008-11-04</td>\n",
              "      <td>49.8</td>\n",
              "      <td>16.8</td>\n",
              "      <td>230.0</td>\n",
              "      <td>5700.0</td>\n",
              "      <td>MALE</td>\n",
              "    </tr>\n",
              "    <tr>\n",
              "      <th>219</th>\n",
              "      <td>Gentoo penguin (Pygoscelis papua)</td>\n",
              "      <td>Anvers</td>\n",
              "      <td>Biscoe</td>\n",
              "      <td>Adult, 1 Egg Stage</td>\n",
              "      <td>Yes</td>\n",
              "      <td>2008-11-06</td>\n",
              "      <td>48.6</td>\n",
              "      <td>16.0</td>\n",
              "      <td>230.0</td>\n",
              "      <td>5800.0</td>\n",
              "      <td>MALE</td>\n",
              "    </tr>\n",
              "  </tbody>\n",
              "</table>\n",
              "</div>\n",
              "      <button class=\"colab-df-convert\" onclick=\"convertToInteractive('df-7cc61ebd-5bea-4236-a44a-0f8c5ed1c33e')\"\n",
              "              title=\"Convert this dataframe to an interactive table.\"\n",
              "              style=\"display:none;\">\n",
              "        \n",
              "  <svg xmlns=\"http://www.w3.org/2000/svg\" height=\"24px\"viewBox=\"0 0 24 24\"\n",
              "       width=\"24px\">\n",
              "    <path d=\"M0 0h24v24H0V0z\" fill=\"none\"/>\n",
              "    <path d=\"M18.56 5.44l.94 2.06.94-2.06 2.06-.94-2.06-.94-.94-2.06-.94 2.06-2.06.94zm-11 1L8.5 8.5l.94-2.06 2.06-.94-2.06-.94L8.5 2.5l-.94 2.06-2.06.94zm10 10l.94 2.06.94-2.06 2.06-.94-2.06-.94-.94-2.06-.94 2.06-2.06.94z\"/><path d=\"M17.41 7.96l-1.37-1.37c-.4-.4-.92-.59-1.43-.59-.52 0-1.04.2-1.43.59L10.3 9.45l-7.72 7.72c-.78.78-.78 2.05 0 2.83L4 21.41c.39.39.9.59 1.41.59.51 0 1.02-.2 1.41-.59l7.78-7.78 2.81-2.81c.8-.78.8-2.07 0-2.86zM5.41 20L4 18.59l7.72-7.72 1.47 1.35L5.41 20z\"/>\n",
              "  </svg>\n",
              "      </button>\n",
              "      \n",
              "  <style>\n",
              "    .colab-df-container {\n",
              "      display:flex;\n",
              "      flex-wrap:wrap;\n",
              "      gap: 12px;\n",
              "    }\n",
              "\n",
              "    .colab-df-convert {\n",
              "      background-color: #E8F0FE;\n",
              "      border: none;\n",
              "      border-radius: 50%;\n",
              "      cursor: pointer;\n",
              "      display: none;\n",
              "      fill: #1967D2;\n",
              "      height: 32px;\n",
              "      padding: 0 0 0 0;\n",
              "      width: 32px;\n",
              "    }\n",
              "\n",
              "    .colab-df-convert:hover {\n",
              "      background-color: #E2EBFA;\n",
              "      box-shadow: 0px 1px 2px rgba(60, 64, 67, 0.3), 0px 1px 3px 1px rgba(60, 64, 67, 0.15);\n",
              "      fill: #174EA6;\n",
              "    }\n",
              "\n",
              "    [theme=dark] .colab-df-convert {\n",
              "      background-color: #3B4455;\n",
              "      fill: #D2E3FC;\n",
              "    }\n",
              "\n",
              "    [theme=dark] .colab-df-convert:hover {\n",
              "      background-color: #434B5C;\n",
              "      box-shadow: 0px 1px 3px 1px rgba(0, 0, 0, 0.15);\n",
              "      filter: drop-shadow(0px 1px 2px rgba(0, 0, 0, 0.3));\n",
              "      fill: #FFFFFF;\n",
              "    }\n",
              "  </style>\n",
              "\n",
              "      <script>\n",
              "        const buttonEl =\n",
              "          document.querySelector('#df-7cc61ebd-5bea-4236-a44a-0f8c5ed1c33e button.colab-df-convert');\n",
              "        buttonEl.style.display =\n",
              "          google.colab.kernel.accessAllowed ? 'block' : 'none';\n",
              "\n",
              "        async function convertToInteractive(key) {\n",
              "          const element = document.querySelector('#df-7cc61ebd-5bea-4236-a44a-0f8c5ed1c33e');\n",
              "          const dataTable =\n",
              "            await google.colab.kernel.invokeFunction('convertToInteractive',\n",
              "                                                     [key], {});\n",
              "          if (!dataTable) return;\n",
              "\n",
              "          const docLinkHtml = 'Like what you see? Visit the ' +\n",
              "            '<a target=\"_blank\" href=https://colab.research.google.com/notebooks/data_table.ipynb>data table notebook</a>'\n",
              "            + ' to learn more about interactive tables.';\n",
              "          element.innerHTML = '';\n",
              "          dataTable['output_type'] = 'display_data';\n",
              "          await google.colab.output.renderOutput(dataTable, element);\n",
              "          const docLink = document.createElement('div');\n",
              "          docLink.innerHTML = docLinkHtml;\n",
              "          element.appendChild(docLink);\n",
              "        }\n",
              "      </script>\n",
              "    </div>\n",
              "  </div>\n",
              "  "
            ]
          },
          "metadata": {},
          "execution_count": 25
        }
      ],
      "source": [
        "# Use pandas to find out which species of penguin can have a flipper length greater than or equal to 230\n",
        "penguins_dataframe[penguins_dataframe[\"Flipper Length (mm)\"] >= 230].head()"
      ]
    },
    {
      "cell_type": "markdown",
      "metadata": {
        "collapsed": false,
        "id": "eVjIgy_C9yYV"
      },
      "source": [
        "**TODO:** Take 5 minutes to explore the dataset on your own. There's some space for you to code below.\n",
        "\n",
        "Think of what you want to learn. Maybe what the smallest flipper size penguin is? How about the smallest culmen width? What is the largest penguin by mass?\n"
      ]
    },
    {
      "cell_type": "code",
      "execution_count": null,
      "metadata": {
        "id": "7B-OZipM9yYV"
      },
      "outputs": [],
      "source": []
    },
    {
      "cell_type": "code",
      "execution_count": null,
      "metadata": {
        "id": "u40UO1r39yYV"
      },
      "outputs": [],
      "source": []
    },
    {
      "cell_type": "code",
      "execution_count": null,
      "metadata": {
        "id": "L4LSSqgb9yYW"
      },
      "outputs": [],
      "source": []
    },
    {
      "cell_type": "markdown",
      "metadata": {
        "collapsed": false,
        "id": "Es9ML4D09yYW"
      },
      "source": [
        "### Visualize on the Fly with Pandas\n",
        "\n",
        "Before we create mind\\-blowing visualizations, it is sometimes worth it to create quick visualizations to get ourselves oriented with the data and it's underlying patterns.\n",
        "\n",
        "I put a simple histogram below that helps me understand how the dataset is distributed. Notice that is is pretty hard to read and ugly, but it gets the job done for the data scientist. I now know that there are three species of penguin we are worried about, and that we have a lot more samples of the Adelie penguin than the Gentoo and Chinstrap \\(a good to know for machine learning\\).\n",
        "\n"
      ]
    },
    {
      "cell_type": "code",
      "execution_count": null,
      "metadata": {
        "id": "sz7w-0dQ9yYX",
        "colab": {
          "base_uri": "https://localhost:8080/",
          "height": 447
        },
        "outputId": "a391240e-5bfb-4123-8b8c-35ae67e404a8"
      },
      "outputs": [
        {
          "output_type": "execute_result",
          "data": {
            "text/plain": [
              "<Axes: >"
            ]
          },
          "metadata": {},
          "execution_count": 33
        },
        {
          "output_type": "display_data",
          "data": {
            "text/plain": [
              "<Figure size 640x480 with 1 Axes>"
            ],
            "image/png": "[encoded data removed]"
          },
          "metadata": {}
        }
      ],
      "source": [
        "# Create a histogram of a column's data using the df.hist() function. I found it here: https://pandas.pydata.org/docs/reference/api/pandas.DataFrame.hist.html\n",
        "penguins_dataframe.Island.hist()"
      ]
    },
    {
      "cell_type": "markdown",
      "metadata": {
        "collapsed": false,
        "id": "HDiB_OYw9yYX"
      },
      "source": [
        "**TODO: Create a histogram of another column of your choice below.**\n"
      ]
    },
    {
      "cell_type": "code",
      "execution_count": null,
      "metadata": {
        "id": "jTp6PWB59yYY",
        "colab": {
          "base_uri": "https://localhost:8080/",
          "height": 448
        },
        "outputId": "d946040d-3e9c-4596-89e2-c050c7d3358e"
      },
      "outputs": [
        {
          "output_type": "execute_result",
          "data": {
            "text/plain": [
              "<Axes: >"
            ]
          },
          "metadata": {},
          "execution_count": 38
        },
        {
          "output_type": "display_data",
          "data": {
            "text/plain": [
              "<Figure size 640x480 with 1 Axes>"
            ],
            "image/png": "[encoded data removed]"
          },
          "metadata": {}
        }
      ],
      "source": [
        "#Create a histogram of another column of your choice below.\n",
        "penguins_dataframe[\"Flipper Length (mm)\"].hist()"
      ]
    },
    {
      "cell_type": "markdown",
      "metadata": {
        "collapsed": false,
        "id": "TOWAY4HQ9yYZ"
      },
      "source": [
        "**TODO:** Now, let's have some fun. Can you create plots using the following functions?\n",
        "\n",
        "1. Scatter Plot: [https://pandas.pydata.org/pandas\\-docs/version/0.25.0/reference/api/pandas.DataFrame.plot.scatter.html](https://pandas.pydata.org/pandas-docs/version/0.25.0/reference/api/pandas.DataFrame.plot.scatter.html)\n",
        "2. Pie Plot: [https://pandas.pydata.org/docs/user\\_guide/visualization.html\\#visualization\\-pie](https://pandas.pydata.org/docs/user_guide/visualization.html#visualization-pie)\n",
        "\n",
        "Pro challenge: Add a title to each!\n",
        "\n"
      ]
    },
    {
      "cell_type": "code",
      "execution_count": null,
      "metadata": {
        "id": "TD4TmGtf9yYb",
        "colab": {
          "base_uri": "https://localhost:8080/",
          "height": 472
        },
        "outputId": "9e60dfc3-d912-4a73-b345-0f864a87cbb6"
      },
      "outputs": [
        {
          "output_type": "display_data",
          "data": {
            "text/plain": [
              "<Figure size 640x480 with 1 Axes>"
            ],
            "image/png": "[encoded data removed]"
          },
          "metadata": {}
        }
      ],
      "source": [
        "#Create a scatter here\n",
        "import pandas as pd\n",
        "import matplotlib.pyplot as plt\n",
        "# Assuming 'penguins_dataframe' is your dataframe\n",
        "penguins_dataframe.plot.scatter(x='Island', y='Body Mass (g)')\n",
        "# Adding labels and title\n",
        "plt.xlabel('Island')\n",
        "plt.ylabel('Body Mass (g)')\n",
        "plt.title('Scatter Plot: Island vs. Body Mass')\n",
        "# Display the plot\n",
        "plt.show()"
      ]
    },
    {
      "cell_type": "code",
      "execution_count": null,
      "metadata": {
        "id": "Q8BhP_3k9yZS",
        "colab": {
          "base_uri": "https://localhost:8080/",
          "height": 428
        },
        "outputId": "d73bb9a6-b75f-498d-ee6a-b75927d6e646"
      },
      "outputs": [
        {
          "output_type": "display_data",
          "data": {
            "text/plain": [
              "<Figure size 640x480 with 1 Axes>"
            ],
            "image/png": "[encoded data removed]"
          },
          "metadata": {}
        }
      ],
      "source": [
        "#Create a pie plot here - might look more like art than data science. Is a pie chart a good choice for the column?\n",
        "import pandas as pd\n",
        "import matplotlib.pyplot as plt\n",
        "# Assuming 'penguins_dataframe' is your dataframe\n",
        "region_counts = penguins_dataframe['Island'].value_counts()\n",
        "# Plotting the pie chart\n",
        "region_counts.plot.pie(autopct='%1.1f%%')\n",
        "# Adding a title\n",
        "plt.title('Distribution of Penguins by Region')\n",
        "# Display the plot\n",
        "plt.show()"
      ]
    },
    {
      "cell_type": "markdown",
      "metadata": {
        "collapsed": false,
        "id": "0kRnu1zb9yZT"
      },
      "source": [
        "### Creating Beautiful Visualizations with Plotly\n",
        "\n",
        "So far, it looks like a scatter plot might be our best bet! Now we want to make a beautiful scatter plot using `plotly.`Just like pandas and numpy, plotly is a module that lets us create beautiful visualizations in just a few lines of code.\n",
        "\n",
        "I'm only going to help with the import, so I need you to spend time on plotly's documentation in order to build the same scatter plot you did in the last section, but nicer. Maybe google \"Scatter plots in plotly python\" to start!\n",
        "\n"
      ]
    },
    {
      "cell_type": "code",
      "execution_count": null,
      "metadata": {
        "id": "fn_dNt3H9yZb"
      },
      "outputs": [],
      "source": [
        "import plotly.express as px #importing plotly"
      ]
    },
    {
      "cell_type": "markdown",
      "metadata": {
        "collapsed": false,
        "id": "qqmTDLCd9yZc"
      },
      "source": [
        "**TODO:** Create a scatter plot using plotly. Please add a title here!\n",
        "\n",
        "Maybe google \"Scatter plots in plotly python\" to start!\n",
        "\n"
      ]
    },
    {
      "cell_type": "code",
      "execution_count": null,
      "metadata": {
        "id": "TTMVBdXJ9yZd"
      },
      "outputs": [],
      "source": [
        "# Create a scatter plot\n"
      ]
    },
    {
      "cell_type": "markdown",
      "metadata": {
        "collapsed": false,
        "id": "I2QSrI9_9yZd"
      },
      "source": [
        "**TODO:** Let's make it look even better. Copy your function from above but add another argument to the function by setting the `color=\"Species\"`. Not sure what this means? Get to the scatter plots page on plotly and scroll down to the \"Setting size and color with column names\" section.\n",
        "\n"
      ]
    },
    {
      "cell_type": "code",
      "execution_count": null,
      "metadata": {
        "id": "dcBE2O0j9yZd"
      },
      "outputs": [],
      "source": [
        "# Create the same scatter plot with color=\"Species\". Feeling crazy? Set a column name to the \"size\" argument as well!\n"
      ]
    },
    {
      "cell_type": "markdown",
      "metadata": {
        "collapsed": false,
        "id": "OkIg1ohF9yZe"
      },
      "source": [
        "**Scatter Matrix:** I wanted to create a scatter plot for every possible numerical combination of 'Culmen Length \\(mm\\)', 'Culmen Depth \\(mm\\)', 'Flipper Length \\(mm\\)', and 'Body Mass \\(g\\)'. This could help me understand what is correlated and could mean a relationship between each other. The code to do so is below; are there any findings you can take away from this data?\n",
        "\n"
      ]
    },
    {
      "cell_type": "code",
      "execution_count": null,
      "metadata": {
        "id": "2K3z5zYA9yZe",
        "outputId": "0cf0cd4d-c132-43c8-9709-aee98aa8ccd5"
      },
      "outputs": [
        {
          "data": {
            "application/vnd.plotly.v1+json": {
              "config": {
                "plotlyServerURL": "https://plot.ly"
              },
              "data": [
                {
                  "dimensions": [
                    {
                      "axis": {
                        "matches": true
                      },
                      "label": "Culmen Length (mm)",
                      "values": [
                        39.5,
                        40.3,
                        36.7,
                        39.3,
                        38.9,
                        39.2,
                        34.6,
                        38.7,
                        42.5,
                        34.4,
                        46,
                        37.8,
                        37.7,
                        35.9,
                        38.2,
                        38.8,
                        35.3,
                        40.6,
                        40.5,
                        37.9,
                        40.5,
                        39.5,
                        37.2,
                        39.5,
                        40.9,
                        36.4,
                        39.2,
                        38.8,
                        42.2,
                        37.6,
                        36.5,
                        36,
                        44.1,
                        37,
                        39.6,
                        36,
                        42.3,
                        39.6,
                        40.1,
                        35,
                        42,
                        34.5,
                        41.4,
                        39,
                        40.6,
                        36.5,
                        37.6,
                        35.7,
                        41.3,
                        37.6,
                        41.1,
                        36.4,
                        41.6,
                        35.5,
                        41.1,
                        35.9,
                        41.8,
                        33.5,
                        39.7,
                        39.6,
                        45.8,
                        35.5,
                        42.8,
                        40.9,
                        37.2,
                        36.2,
                        42.1,
                        34.6,
                        42.9,
                        36.7,
                        35.1,
                        37.3,
                        41.3,
                        36.3,
                        36.9,
                        38.3,
                        38.9,
                        35.7,
                        41.1,
                        34,
                        39.6,
                        36.2,
                        40.8,
                        38.1,
                        40.3,
                        33.1,
                        43.2,
                        35,
                        41,
                        37.7,
                        37.8,
                        37.9,
                        39.7,
                        38.6,
                        38.2,
                        38.1,
                        43.2,
                        38.1,
                        45.6,
                        39.7,
                        42.2,
                        39.6,
                        42.7,
                        38.6,
                        37.3,
                        35.7,
                        41.1,
                        36.2,
                        37.7,
                        40.2,
                        41.4,
                        35.2,
                        40.6,
                        38.8,
                        41.5,
                        39,
                        44.1,
                        38.5,
                        43.1,
                        36.8,
                        37.5,
                        38.1,
                        41.1,
                        35.6,
                        40.2,
                        37,
                        39.7,
                        40.2,
                        40.6,
                        32.1,
                        40.7,
                        37.3,
                        39,
                        39.2,
                        36.6,
                        36,
                        37.8,
                        36,
                        41.5,
                        46.1,
                        50,
                        48.7,
                        50,
                        47.6,
                        46.5,
                        45.4,
                        46.7,
                        43.3,
                        46.8,
                        40.9,
                        49,
                        45.5,
                        48.4,
                        45.8,
                        49.3,
                        42,
                        49.2,
                        46.2,
                        48.7,
                        50.2,
                        45.1,
                        46.5,
                        46.3,
                        42.9,
                        46.1,
                        47.8,
                        48.2,
                        50,
                        42.8,
                        45.1,
                        59.6,
                        49.1,
                        48.4,
                        42.6,
                        44.4,
                        44,
                        48.7,
                        42.7,
                        49.6,
                        45.3,
                        49.6,
                        50.5,
                        43.6,
                        45.5,
                        50.5,
                        44.9,
                        45.2,
                        46.6,
                        48.5,
                        45.1,
                        50.1,
                        46.5,
                        45,
                        43.8,
                        45.5,
                        43.2,
                        50.4,
                        45.3,
                        46.2,
                        45.7,
                        54.3,
                        45.8,
                        49.8,
                        49.5,
                        43.5,
                        50.7,
                        47.7,
                        46.4,
                        48.2,
                        46.5,
                        46.4,
                        48.6,
                        47.5,
                        51.1,
                        45.2,
                        45.2,
                        49.1,
                        52.5,
                        47.4,
                        50,
                        44.9,
                        50.8,
                        43.4,
                        51.3,
                        47.5,
                        52.1,
                        47.5,
                        52.2,
                        45.5,
                        49.5,
                        44.5,
                        50.8,
                        49.4,
                        46.9,
                        48.4,
                        51.1,
                        48.5,
                        55.9,
                        47.2,
                        49.1,
                        46.8,
                        41.7,
                        53.4,
                        43.3,
                        48.1,
                        50.5,
                        49.8,
                        43.5,
                        51.5,
                        46.2,
                        55.1,
                        48.8,
                        47.2,
                        46.8,
                        50.4,
                        45.2,
                        49.9,
                        46.5,
                        50,
                        51.3,
                        45.4,
                        52.7,
                        45.2,
                        46.1,
                        51.3,
                        46,
                        51.3,
                        46.6,
                        51.7,
                        47,
                        52,
                        45.9,
                        50.5,
                        50.3,
                        58,
                        46.4,
                        49.2,
                        42.4,
                        48.5,
                        43.2,
                        50.6,
                        46.7,
                        52,
                        50.5,
                        49.5,
                        46.4,
                        52.8,
                        40.9,
                        54.2,
                        42.5,
                        51,
                        49.7,
                        47.5,
                        47.6,
                        52,
                        46.9,
                        53.5,
                        49,
                        46.2,
                        50.9,
                        45.5,
                        50.9,
                        50.8,
                        50.1,
                        49,
                        51.5,
                        49.8,
                        48.1,
                        51.4,
                        45.7,
                        50.7,
                        42.5,
                        52.2,
                        45.2,
                        49.3,
                        50.2,
                        45.6,
                        46.8,
                        45.7,
                        55.8,
                        43.5,
                        49.6,
                        50.8,
                        50.2
                      ]
                    },
                    {
                      "axis": {
                        "matches": true
                      },
                      "label": "Culmen Depth (mm)",
                      "values": [
                        17.4,
                        18,
                        19.3,
                        20.6,
                        17.8,
                        19.6,
                        21.1,
                        19,
                        20.7,
                        18.4,
                        21.5,
                        18.3,
                        18.7,
                        19.2,
                        18.1,
                        17.2,
                        18.9,
                        18.6,
                        17.9,
                        18.6,
                        18.9,
                        16.7,
                        18.1,
                        17.8,
                        18.9,
                        17,
                        21.1,
                        20,
                        18.5,
                        19.3,
                        18,
                        18.5,
                        19.7,
                        16.9,
                        18.8,
                        17.9,
                        21.2,
                        17.7,
                        18.9,
                        17.9,
                        19.5,
                        18.1,
                        18.6,
                        17.5,
                        18.8,
                        16.6,
                        19.1,
                        16.9,
                        21.1,
                        17,
                        18.2,
                        17.1,
                        18,
                        16.2,
                        19.1,
                        16.6,
                        19.4,
                        19,
                        18.4,
                        17.2,
                        18.9,
                        17.5,
                        18.5,
                        16.8,
                        19.4,
                        16.1,
                        19.1,
                        17.2,
                        17.6,
                        18.8,
                        19.4,
                        17.8,
                        20.3,
                        19.5,
                        18.6,
                        19.2,
                        18.8,
                        18,
                        18.1,
                        17.1,
                        18.1,
                        17.3,
                        18.9,
                        18.6,
                        18.5,
                        16.1,
                        18.5,
                        17.9,
                        20,
                        16,
                        20,
                        18.6,
                        18.9,
                        17.2,
                        20,
                        17,
                        19,
                        16.5,
                        20.3,
                        17.7,
                        19.5,
                        20.7,
                        18.3,
                        17,
                        20.5,
                        17,
                        18.6,
                        17.2,
                        19.8,
                        17,
                        18.5,
                        15.9,
                        19,
                        17.6,
                        18.3,
                        17.1,
                        18,
                        17.9,
                        19.2,
                        18.5,
                        18.5,
                        17.6,
                        17.5,
                        17.5,
                        20.1,
                        16.5,
                        17.9,
                        17.1,
                        17.2,
                        15.5,
                        17,
                        16.8,
                        18.7,
                        18.6,
                        18.4,
                        17.8,
                        18.1,
                        17.1,
                        18.5,
                        13.2,
                        16.3,
                        14.1,
                        15.2,
                        14.5,
                        13.5,
                        14.6,
                        15.3,
                        13.4,
                        15.4,
                        13.7,
                        16.1,
                        13.7,
                        14.6,
                        14.6,
                        15.7,
                        13.5,
                        15.2,
                        14.5,
                        15.1,
                        14.3,
                        14.5,
                        14.5,
                        15.8,
                        13.1,
                        15.1,
                        15,
                        14.3,
                        15.3,
                        14.2,
                        14.5,
                        17,
                        14.8,
                        16.3,
                        13.7,
                        17.3,
                        13.6,
                        15.7,
                        13.7,
                        16,
                        13.7,
                        15,
                        15.9,
                        13.9,
                        13.9,
                        15.9,
                        13.3,
                        15.8,
                        14.2,
                        14.1,
                        14.4,
                        15,
                        14.4,
                        15.4,
                        13.9,
                        15,
                        14.5,
                        15.3,
                        13.8,
                        14.9,
                        13.9,
                        15.7,
                        14.2,
                        16.8,
                        16.2,
                        14.2,
                        15,
                        15,
                        15.6,
                        15.6,
                        14.8,
                        15,
                        16,
                        14.2,
                        16.3,
                        13.8,
                        16.4,
                        14.5,
                        15.6,
                        14.6,
                        15.9,
                        13.8,
                        17.3,
                        14.4,
                        14.2,
                        14,
                        17,
                        15,
                        17.1,
                        14.5,
                        16.1,
                        14.7,
                        15.7,
                        15.8,
                        14.6,
                        14.4,
                        16.5,
                        15,
                        17,
                        15.5,
                        15,
                        16.1,
                        14.7,
                        15.8,
                        14,
                        15.1,
                        15.2,
                        15.9,
                        15.2,
                        16.3,
                        14.1,
                        16,
                        16.2,
                        13.7,
                        14.3,
                        15.7,
                        14.8,
                        16.1,
                        17.9,
                        19.5,
                        19.2,
                        18.7,
                        19.8,
                        17.8,
                        18.2,
                        18.2,
                        18.9,
                        19.9,
                        17.8,
                        20.3,
                        17.3,
                        18.1,
                        17.1,
                        19.6,
                        20,
                        17.8,
                        18.6,
                        18.2,
                        17.3,
                        17.5,
                        16.6,
                        19.4,
                        17.9,
                        19,
                        18.4,
                        19,
                        17.8,
                        20,
                        16.6,
                        20.8,
                        16.7,
                        18.8,
                        18.6,
                        16.8,
                        18.3,
                        20.7,
                        16.6,
                        19.9,
                        19.5,
                        17.5,
                        19.1,
                        17,
                        17.9,
                        18.5,
                        17.9,
                        19.6,
                        18.7,
                        17.3,
                        16.4,
                        19,
                        17.3,
                        19.7,
                        17.3,
                        18.8,
                        16.6,
                        19.9,
                        18.8,
                        19.4,
                        16.5,
                        17,
                        19.8,
                        18.1,
                        18.2,
                        19,
                        18.7
                      ]
                    },
                    {
                      "axis": {
                        "matches": true
                      },
                      "label": "Flipper Length (mm)",
                      "values": [
                        186,
                        195,
                        193,
                        190,
                        181,
                        195,
                        198,
                        195,
                        197,
                        184,
                        194,
                        174,
                        180,
                        189,
                        185,
                        180,
                        187,
                        183,
                        187,
                        172,
                        180,
                        178,
                        178,
                        188,
                        184,
                        195,
                        196,
                        190,
                        180,
                        181,
                        182,
                        186,
                        196,
                        185,
                        190,
                        190,
                        191,
                        186,
                        188,
                        190,
                        200,
                        187,
                        191,
                        186,
                        193,
                        181,
                        194,
                        185,
                        195,
                        185,
                        192,
                        184,
                        192,
                        195,
                        188,
                        190,
                        198,
                        190,
                        190,
                        196,
                        197,
                        190,
                        195,
                        191,
                        184,
                        187,
                        195,
                        189,
                        196,
                        187,
                        193,
                        191,
                        194,
                        190,
                        189,
                        189,
                        190,
                        202,
                        205,
                        185,
                        186,
                        187,
                        208,
                        190,
                        196,
                        178,
                        192,
                        192,
                        203,
                        183,
                        190,
                        193,
                        184,
                        199,
                        190,
                        181,
                        197,
                        198,
                        191,
                        193,
                        197,
                        191,
                        196,
                        188,
                        199,
                        189,
                        189,
                        187,
                        198,
                        176,
                        202,
                        186,
                        199,
                        191,
                        195,
                        191,
                        210,
                        190,
                        197,
                        193,
                        199,
                        187,
                        190,
                        191,
                        200,
                        185,
                        193,
                        193,
                        187,
                        188,
                        190,
                        192,
                        185,
                        190,
                        184,
                        195,
                        193,
                        187,
                        201,
                        211,
                        230,
                        210,
                        218,
                        215,
                        210,
                        211,
                        219,
                        209,
                        215,
                        214,
                        216,
                        214,
                        213,
                        210,
                        217,
                        210,
                        221,
                        209,
                        222,
                        218,
                        215,
                        213,
                        215,
                        215,
                        215,
                        215,
                        210,
                        220,
                        209,
                        207,
                        230,
                        220,
                        220,
                        213,
                        219,
                        208,
                        208,
                        208,
                        225,
                        210,
                        216,
                        222,
                        217,
                        210,
                        225,
                        213,
                        215,
                        210,
                        220,
                        210,
                        225,
                        217,
                        220,
                        208,
                        220,
                        208,
                        224,
                        208,
                        221,
                        214,
                        231,
                        219,
                        230,
                        229,
                        220,
                        223,
                        216,
                        221,
                        221,
                        217,
                        216,
                        230,
                        209,
                        220,
                        215,
                        223,
                        212,
                        221,
                        212,
                        224,
                        212,
                        228,
                        218,
                        218,
                        212,
                        230,
                        218,
                        228,
                        212,
                        224,
                        214,
                        226,
                        216,
                        222,
                        203,
                        225,
                        219,
                        228,
                        215,
                        228,
                        215,
                        210,
                        219,
                        208,
                        209,
                        216,
                        229,
                        213,
                        230,
                        217,
                        230,
                        222,
                        214,
                        215,
                        222,
                        212,
                        213,
                        192,
                        196,
                        193,
                        188,
                        197,
                        198,
                        178,
                        197,
                        195,
                        198,
                        193,
                        194,
                        185,
                        201,
                        190,
                        201,
                        197,
                        181,
                        190,
                        195,
                        181,
                        191,
                        187,
                        193,
                        195,
                        197,
                        200,
                        200,
                        191,
                        205,
                        187,
                        201,
                        187,
                        203,
                        195,
                        199,
                        195,
                        210,
                        192,
                        205,
                        210,
                        187,
                        196,
                        196,
                        196,
                        201,
                        190,
                        212,
                        187,
                        198,
                        199,
                        201,
                        193,
                        203,
                        187,
                        197,
                        191,
                        203,
                        202,
                        194,
                        189,
                        195,
                        207,
                        202,
                        193,
                        210,
                        198
                      ]
                    },
                    {
                      "axis": {
                        "matches": true
                      },
                      "label": "Body Mass (g)",
                      "values": [
                        3800,
                        3250,
                        3450,
                        3650,
                        3625,
                        4675,
                        4400,
                        3450,
                        4500,
                        3325,
                        4200,
                        3400,
                        3600,
                        3800,
                        3950,
                        3800,
                        3800,
                        3550,
                        3200,
                        3150,
                        3950,
                        3250,
                        3900,
                        3300,
                        3900,
                        3325,
                        4150,
                        3950,
                        3550,
                        3300,
                        3150,
                        3100,
                        4400,
                        3000,
                        4600,
                        3450,
                        4150,
                        3500,
                        4300,
                        3450,
                        4050,
                        2900,
                        3700,
                        3550,
                        3800,
                        2850,
                        3750,
                        3150,
                        4400,
                        3600,
                        4050,
                        2850,
                        3950,
                        3350,
                        4100,
                        3050,
                        4450,
                        3600,
                        3900,
                        3550,
                        4150,
                        3700,
                        4250,
                        3700,
                        3900,
                        3550,
                        4000,
                        3200,
                        4700,
                        3800,
                        4200,
                        3350,
                        3550,
                        3800,
                        3500,
                        3950,
                        3600,
                        3550,
                        4300,
                        3400,
                        4450,
                        3300,
                        4300,
                        3700,
                        4350,
                        2900,
                        4100,
                        3725,
                        4725,
                        3075,
                        4250,
                        2925,
                        3550,
                        3750,
                        3900,
                        3175,
                        4775,
                        3825,
                        4600,
                        3200,
                        4275,
                        3900,
                        4075,
                        2900,
                        3775,
                        3350,
                        3325,
                        3150,
                        3500,
                        3450,
                        3875,
                        3050,
                        4000,
                        3275,
                        4300,
                        3050,
                        4000,
                        3325,
                        3500,
                        3500,
                        4475,
                        3425,
                        3900,
                        3175,
                        3975,
                        3400,
                        4250,
                        3400,
                        3475,
                        3050,
                        3725,
                        3000,
                        3650,
                        4250,
                        3475,
                        3450,
                        3750,
                        3700,
                        4000,
                        4500,
                        5700,
                        4450,
                        5700,
                        5400,
                        4550,
                        4800,
                        5200,
                        4400,
                        5150,
                        4650,
                        5550,
                        4650,
                        5850,
                        4200,
                        5850,
                        4150,
                        6300,
                        4800,
                        5350,
                        5700,
                        5000,
                        4400,
                        5050,
                        5000,
                        5100,
                        5650,
                        4600,
                        5550,
                        4700,
                        5050,
                        6050,
                        5150,
                        5400,
                        4950,
                        5250,
                        4350,
                        5350,
                        3950,
                        5700,
                        4300,
                        4750,
                        5550,
                        4900,
                        4200,
                        5400,
                        5100,
                        5300,
                        4850,
                        5300,
                        4400,
                        5000,
                        4900,
                        5050,
                        4300,
                        5000,
                        4450,
                        5550,
                        4200,
                        5300,
                        4400,
                        5650,
                        4700,
                        5700,
                        5800,
                        4700,
                        5550,
                        4750,
                        5000,
                        5100,
                        5200,
                        4700,
                        5800,
                        4600,
                        6000,
                        4750,
                        5950,
                        4625,
                        5450,
                        4725,
                        5350,
                        4750,
                        5600,
                        4600,
                        5300,
                        4875,
                        5550,
                        4950,
                        5400,
                        4750,
                        5650,
                        4850,
                        5200,
                        4925,
                        4875,
                        4625,
                        5250,
                        4850,
                        5600,
                        4975,
                        5500,
                        5500,
                        4700,
                        5500,
                        4575,
                        5500,
                        5000,
                        5950,
                        4650,
                        5500,
                        4375,
                        5850,
                        6000,
                        4925,
                        4850,
                        5750,
                        5200,
                        5400,
                        3500,
                        3900,
                        3650,
                        3525,
                        3725,
                        3950,
                        3250,
                        3750,
                        4150,
                        3700,
                        3800,
                        3775,
                        3700,
                        4050,
                        3575,
                        4050,
                        3300,
                        3700,
                        3450,
                        4400,
                        3600,
                        3400,
                        2900,
                        3800,
                        3300,
                        4150,
                        3400,
                        3800,
                        3700,
                        4550,
                        3200,
                        4300,
                        3350,
                        4100,
                        3600,
                        3900,
                        3850,
                        4800,
                        2700,
                        4500,
                        3950,
                        3650,
                        3550,
                        3500,
                        3675,
                        4450,
                        3400,
                        4300,
                        3250,
                        3675,
                        3325,
                        3950,
                        3600,
                        4050,
                        3350,
                        3450,
                        3250,
                        4050,
                        3800,
                        3525,
                        3650,
                        3650,
                        4000,
                        3400,
                        3775,
                        4100,
                        3775
                      ]
                    }
                  ],
                  "hovertemplate": "%{xaxis.title.text}=%{x}<br>%{yaxis.title.text}=%{y}<extra></extra>",
                  "legendgroup": "",
                  "marker": {
                    "color": "#636efa",
                    "symbol": "circle"
                  },
                  "name": "",
                  "showlegend": false,
                  "type": "splom"
                }
              ],
              "layout": {
                "dragmode": "select",
                "legend": {
                  "tracegroupgap": 0
                },
                "margin": {
                  "t": 60
                },
                "template": {
                  "data": {
                    "bar": [
                      {
                        "error_x": {
                          "color": "#2a3f5f"
                        },
                        "error_y": {
                          "color": "#2a3f5f"
                        },
                        "marker": {
                          "line": {
                            "color": "#E5ECF6",
                            "width": 0.5
                          },
                          "pattern": {
                            "fillmode": "overlay",
                            "size": 10,
                            "solidity": 0.2
                          }
                        },
                        "type": "bar"
                      }
                    ],
                    "barpolar": [
                      {
                        "marker": {
                          "line": {
                            "color": "#E5ECF6",
                            "width": 0.5
                          },
                          "pattern": {
                            "fillmode": "overlay",
                            "size": 10,
                            "solidity": 0.2
                          }
                        },
                        "type": "barpolar"
                      }
                    ],
                    "carpet": [
                      {
                        "aaxis": {
                          "endlinecolor": "#2a3f5f",
                          "gridcolor": "white",
                          "linecolor": "white",
                          "minorgridcolor": "white",
                          "startlinecolor": "#2a3f5f"
                        },
                        "baxis": {
                          "endlinecolor": "#2a3f5f",
                          "gridcolor": "white",
                          "linecolor": "white",
                          "minorgridcolor": "white",
                          "startlinecolor": "#2a3f5f"
                        },
                        "type": "carpet"
                      }
                    ],
                    "choropleth": [
                      {
                        "colorbar": {
                          "outlinewidth": 0,
                          "ticks": ""
                        },
                        "type": "choropleth"
                      }
                    ],
                    "contour": [
                      {
                        "colorbar": {
                          "outlinewidth": 0,
                          "ticks": ""
                        },
                        "colorscale": [
                          [
                            0,
                            "#0d0887"
                          ],
                          [
                            0.1111111111111111,
                            "#46039f"
                          ],
                          [
                            0.2222222222222222,
                            "#7201a8"
                          ],
                          [
                            0.3333333333333333,
                            "#9c179e"
                          ],
                          [
                            0.4444444444444444,
                            "#bd3786"
                          ],
                          [
                            0.5555555555555556,
                            "#d8576b"
                          ],
                          [
                            0.6666666666666666,
                            "#ed7953"
                          ],
                          [
                            0.7777777777777778,
                            "#fb9f3a"
                          ],
                          [
                            0.8888888888888888,
                            "#fdca26"
                          ],
                          [
                            1,
                            "#f0f921"
                          ]
                        ],
                        "type": "contour"
                      }
                    ],
                    "contourcarpet": [
                      {
                        "colorbar": {
                          "outlinewidth": 0,
                          "ticks": ""
                        },
                        "type": "contourcarpet"
                      }
                    ],
                    "heatmap": [
                      {
                        "colorbar": {
                          "outlinewidth": 0,
                          "ticks": ""
                        },
                        "colorscale": [
                          [
                            0,
                            "#0d0887"
                          ],
                          [
                            0.1111111111111111,
                            "#46039f"
                          ],
                          [
                            0.2222222222222222,
                            "#7201a8"
                          ],
                          [
                            0.3333333333333333,
                            "#9c179e"
                          ],
                          [
                            0.4444444444444444,
                            "#bd3786"
                          ],
                          [
                            0.5555555555555556,
                            "#d8576b"
                          ],
                          [
                            0.6666666666666666,
                            "#ed7953"
                          ],
                          [
                            0.7777777777777778,
                            "#fb9f3a"
                          ],
                          [
                            0.8888888888888888,
                            "#fdca26"
                          ],
                          [
                            1,
                            "#f0f921"
                          ]
                        ],
                        "type": "heatmap"
                      }
                    ],
                    "heatmapgl": [
                      {
                        "colorbar": {
                          "outlinewidth": 0,
                          "ticks": ""
                        },
                        "colorscale": [
                          [
                            0,
                            "#0d0887"
                          ],
                          [
                            0.1111111111111111,
                            "#46039f"
                          ],
                          [
                            0.2222222222222222,
                            "#7201a8"
                          ],
                          [
                            0.3333333333333333,
                            "#9c179e"
                          ],
                          [
                            0.4444444444444444,
                            "#bd3786"
                          ],
                          [
                            0.5555555555555556,
                            "#d8576b"
                          ],
                          [
                            0.6666666666666666,
                            "#ed7953"
                          ],
                          [
                            0.7777777777777778,
                            "#fb9f3a"
                          ],
                          [
                            0.8888888888888888,
                            "#fdca26"
                          ],
                          [
                            1,
                            "#f0f921"
                          ]
                        ],
                        "type": "heatmapgl"
                      }
                    ],
                    "histogram": [
                      {
                        "marker": {
                          "pattern": {
                            "fillmode": "overlay",
                            "size": 10,
                            "solidity": 0.2
                          }
                        },
                        "type": "histogram"
                      }
                    ],
                    "histogram2d": [
                      {
                        "colorbar": {
                          "outlinewidth": 0,
                          "ticks": ""
                        },
                        "colorscale": [
                          [
                            0,
                            "#0d0887"
                          ],
                          [
                            0.1111111111111111,
                            "#46039f"
                          ],
                          [
                            0.2222222222222222,
                            "#7201a8"
                          ],
                          [
                            0.3333333333333333,
                            "#9c179e"
                          ],
                          [
                            0.4444444444444444,
                            "#bd3786"
                          ],
                          [
                            0.5555555555555556,
                            "#d8576b"
                          ],
                          [
                            0.6666666666666666,
                            "#ed7953"
                          ],
                          [
                            0.7777777777777778,
                            "#fb9f3a"
                          ],
                          [
                            0.8888888888888888,
                            "#fdca26"
                          ],
                          [
                            1,
                            "#f0f921"
                          ]
                        ],
                        "type": "histogram2d"
                      }
                    ],
                    "histogram2dcontour": [
                      {
                        "colorbar": {
                          "outlinewidth": 0,
                          "ticks": ""
                        },
                        "colorscale": [
                          [
                            0,
                            "#0d0887"
                          ],
                          [
                            0.1111111111111111,
                            "#46039f"
                          ],
                          [
                            0.2222222222222222,
                            "#7201a8"
                          ],
                          [
                            0.3333333333333333,
                            "#9c179e"
                          ],
                          [
                            0.4444444444444444,
                            "#bd3786"
                          ],
                          [
                            0.5555555555555556,
                            "#d8576b"
                          ],
                          [
                            0.6666666666666666,
                            "#ed7953"
                          ],
                          [
                            0.7777777777777778,
                            "#fb9f3a"
                          ],
                          [
                            0.8888888888888888,
                            "#fdca26"
                          ],
                          [
                            1,
                            "#f0f921"
                          ]
                        ],
                        "type": "histogram2dcontour"
                      }
                    ],
                    "mesh3d": [
                      {
                        "colorbar": {
                          "outlinewidth": 0,
                          "ticks": ""
                        },
                        "type": "mesh3d"
                      }
                    ],
                    "parcoords": [
                      {
                        "line": {
                          "colorbar": {
                            "outlinewidth": 0,
                            "ticks": ""
                          }
                        },
                        "type": "parcoords"
                      }
                    ],
                    "pie": [
                      {
                        "automargin": true,
                        "type": "pie"
                      }
                    ],
                    "scatter": [
                      {
                        "marker": {
                          "colorbar": {
                            "outlinewidth": 0,
                            "ticks": ""
                          }
                        },
                        "type": "scatter"
                      }
                    ],
                    "scatter3d": [
                      {
                        "line": {
                          "colorbar": {
                            "outlinewidth": 0,
                            "ticks": ""
                          }
                        },
                        "marker": {
                          "colorbar": {
                            "outlinewidth": 0,
                            "ticks": ""
                          }
                        },
                        "type": "scatter3d"
                      }
                    ],
                    "scattercarpet": [
                      {
                        "marker": {
                          "colorbar": {
                            "outlinewidth": 0,
                            "ticks": ""
                          }
                        },
                        "type": "scattercarpet"
                      }
                    ],
                    "scattergeo": [
                      {
                        "marker": {
                          "colorbar": {
                            "outlinewidth": 0,
                            "ticks": ""
                          }
                        },
                        "type": "scattergeo"
                      }
                    ],
                    "scattergl": [
                      {
                        "marker": {
                          "colorbar": {
                            "outlinewidth": 0,
                            "ticks": ""
                          }
                        },
                        "type": "scattergl"
                      }
                    ],
                    "scattermapbox": [
                      {
                        "marker": {
                          "colorbar": {
                            "outlinewidth": 0,
                            "ticks": ""
                          }
                        },
                        "type": "scattermapbox"
                      }
                    ],
                    "scatterpolar": [
                      {
                        "marker": {
                          "colorbar": {
                            "outlinewidth": 0,
                            "ticks": ""
                          }
                        },
                        "type": "scatterpolar"
                      }
                    ],
                    "scatterpolargl": [
                      {
                        "marker": {
                          "colorbar": {
                            "outlinewidth": 0,
                            "ticks": ""
                          }
                        },
                        "type": "scatterpolargl"
                      }
                    ],
                    "scatterternary": [
                      {
                        "marker": {
                          "colorbar": {
                            "outlinewidth": 0,
                            "ticks": ""
                          }
                        },
                        "type": "scatterternary"
                      }
                    ],
                    "surface": [
                      {
                        "colorbar": {
                          "outlinewidth": 0,
                          "ticks": ""
                        },
                        "colorscale": [
                          [
                            0,
                            "#0d0887"
                          ],
                          [
                            0.1111111111111111,
                            "#46039f"
                          ],
                          [
                            0.2222222222222222,
                            "#7201a8"
                          ],
                          [
                            0.3333333333333333,
                            "#9c179e"
                          ],
                          [
                            0.4444444444444444,
                            "#bd3786"
                          ],
                          [
                            0.5555555555555556,
                            "#d8576b"
                          ],
                          [
                            0.6666666666666666,
                            "#ed7953"
                          ],
                          [
                            0.7777777777777778,
                            "#fb9f3a"
                          ],
                          [
                            0.8888888888888888,
                            "#fdca26"
                          ],
                          [
                            1,
                            "#f0f921"
                          ]
                        ],
                        "type": "surface"
                      }
                    ],
                    "table": [
                      {
                        "cells": {
                          "fill": {
                            "color": "#EBF0F8"
                          },
                          "line": {
                            "color": "white"
                          }
                        },
                        "header": {
                          "fill": {
                            "color": "#C8D4E3"
                          },
                          "line": {
                            "color": "white"
                          }
                        },
                        "type": "table"
                      }
                    ]
                  },
                  "layout": {
                    "annotationdefaults": {
                      "arrowcolor": "#2a3f5f",
                      "arrowhead": 0,
                      "arrowwidth": 1
                    },
                    "autotypenumbers": "strict",
                    "coloraxis": {
                      "colorbar": {
                        "outlinewidth": 0,
                        "ticks": ""
                      }
                    },
                    "colorscale": {
                      "diverging": [
                        [
                          0,
                          "#8e0152"
                        ],
                        [
                          0.1,
                          "#c51b7d"
                        ],
                        [
                          0.2,
                          "#de77ae"
                        ],
                        [
                          0.3,
                          "#f1b6da"
                        ],
                        [
                          0.4,
                          "#fde0ef"
                        ],
                        [
                          0.5,
                          "#f7f7f7"
                        ],
                        [
                          0.6,
                          "#e6f5d0"
                        ],
                        [
                          0.7,
                          "#b8e186"
                        ],
                        [
                          0.8,
                          "#7fbc41"
                        ],
                        [
                          0.9,
                          "#4d9221"
                        ],
                        [
                          1,
                          "#276419"
                        ]
                      ],
                      "sequential": [
                        [
                          0,
                          "#0d0887"
                        ],
                        [
                          0.1111111111111111,
                          "#46039f"
                        ],
                        [
                          0.2222222222222222,
                          "#7201a8"
                        ],
                        [
                          0.3333333333333333,
                          "#9c179e"
                        ],
                        [
                          0.4444444444444444,
                          "#bd3786"
                        ],
                        [
                          0.5555555555555556,
                          "#d8576b"
                        ],
                        [
                          0.6666666666666666,
                          "#ed7953"
                        ],
                        [
                          0.7777777777777778,
                          "#fb9f3a"
                        ],
                        [
                          0.8888888888888888,
                          "#fdca26"
                        ],
                        [
                          1,
                          "#f0f921"
                        ]
                      ],
                      "sequentialminus": [
                        [
                          0,
                          "#0d0887"
                        ],
                        [
                          0.1111111111111111,
                          "#46039f"
                        ],
                        [
                          0.2222222222222222,
                          "#7201a8"
                        ],
                        [
                          0.3333333333333333,
                          "#9c179e"
                        ],
                        [
                          0.4444444444444444,
                          "#bd3786"
                        ],
                        [
                          0.5555555555555556,
                          "#d8576b"
                        ],
                        [
                          0.6666666666666666,
                          "#ed7953"
                        ],
                        [
                          0.7777777777777778,
                          "#fb9f3a"
                        ],
                        [
                          0.8888888888888888,
                          "#fdca26"
                        ],
                        [
                          1,
                          "#f0f921"
                        ]
                      ]
                    },
                    "colorway": [
                      "#636efa",
                      "#EF553B",
                      "#00cc96",
                      "#ab63fa",
                      "#FFA15A",
                      "#19d3f3",
                      "#FF6692",
                      "#B6E880",
                      "#FF97FF",
                      "#FECB52"
                    ],
                    "font": {
                      "color": "#2a3f5f"
                    },
                    "geo": {
                      "bgcolor": "white",
                      "lakecolor": "white",
                      "landcolor": "#E5ECF6",
                      "showlakes": true,
                      "showland": true,
                      "subunitcolor": "white"
                    },
                    "hoverlabel": {
                      "align": "left"
                    },
                    "hovermode": "closest",
                    "mapbox": {
                      "style": "light"
                    },
                    "paper_bgcolor": "white",
                    "plot_bgcolor": "#E5ECF6",
                    "polar": {
                      "angularaxis": {
                        "gridcolor": "white",
                        "linecolor": "white",
                        "ticks": ""
                      },
                      "bgcolor": "#E5ECF6",
                      "radialaxis": {
                        "gridcolor": "white",
                        "linecolor": "white",
                        "ticks": ""
                      }
                    },
                    "scene": {
                      "xaxis": {
                        "backgroundcolor": "#E5ECF6",
                        "gridcolor": "white",
                        "gridwidth": 2,
                        "linecolor": "white",
                        "showbackground": true,
                        "ticks": "",
                        "zerolinecolor": "white"
                      },
                      "yaxis": {
                        "backgroundcolor": "#E5ECF6",
                        "gridcolor": "white",
                        "gridwidth": 2,
                        "linecolor": "white",
                        "showbackground": true,
                        "ticks": "",
                        "zerolinecolor": "white"
                      },
                      "zaxis": {
                        "backgroundcolor": "#E5ECF6",
                        "gridcolor": "white",
                        "gridwidth": 2,
                        "linecolor": "white",
                        "showbackground": true,
                        "ticks": "",
                        "zerolinecolor": "white"
                      }
                    },
                    "shapedefaults": {
                      "line": {
                        "color": "#2a3f5f"
                      }
                    },
                    "ternary": {
                      "aaxis": {
                        "gridcolor": "white",
                        "linecolor": "white",
                        "ticks": ""
                      },
                      "baxis": {
                        "gridcolor": "white",
                        "linecolor": "white",
                        "ticks": ""
                      },
                      "bgcolor": "#E5ECF6",
                      "caxis": {
                        "gridcolor": "white",
                        "linecolor": "white",
                        "ticks": ""
                      }
                    },
                    "title": {
                      "x": 0.05
                    },
                    "xaxis": {
                      "automargin": true,
                      "gridcolor": "white",
                      "linecolor": "white",
                      "ticks": "",
                      "title": {
                        "standoff": 15
                      },
                      "zerolinecolor": "white",
                      "zerolinewidth": 2
                    },
                    "yaxis": {
                      "automargin": true,
                      "gridcolor": "white",
                      "linecolor": "white",
                      "ticks": "",
                      "title": {
                        "standoff": 15
                      },
                      "zerolinecolor": "white",
                      "zerolinewidth": 2
                    }
                  }
                }
              }
            }
          },
          "metadata": {},
          "output_type": "display_data"
        }
      ],
      "source": [
        "# My scatter matrix!\n",
        "numerical_penguins_df = penguins_dataframe[['Culmen Length (mm)', 'Culmen Depth (mm)', 'Flipper Length (mm)',\n",
        "       'Body Mass (g)']]\n",
        "fig = px.scatter_matrix(numerical_penguins_df)\n",
        "fig.show()"
      ]
    },
    {
      "cell_type": "markdown",
      "metadata": {
        "collapsed": false,
        "id": "u-rJVvAr9yZf"
      },
      "source": [
        "### Putting the DA in EDA\n",
        "\n",
        "We now have explored our data some, and have built some beautiful visualizations to showcase patterns our data. But having a plot doesn't mean anything to someone who can't understand how to read plots.\n",
        "\n",
        "Below you can continue your analysis if you have hypotheses you'd like to explore with the penguins \\(i.e. is flipper length related to culmen depth? Which species has the largest culmen area?\\). After you are done, please write up some descriptions for your findings on this dataset. One question we answered earlier was _which species has the largest flipper length?_ You can start with you\n"
      ]
    },
    {
      "cell_type": "code",
      "execution_count": null,
      "metadata": {
        "id": "VFY7KSwo9yZf"
      },
      "outputs": [],
      "source": [
        "#Continue your analysis below -- try something new!"
      ]
    },
    {
      "cell_type": "code",
      "execution_count": null,
      "metadata": {
        "id": "pgcgggzJ9yZg"
      },
      "outputs": [],
      "source": [
        "#Continue your analysis"
      ]
    },
    {
      "cell_type": "raw",
      "metadata": {
        "collapsed": false,
        "id": "NFaoHm8F9yZg"
      },
      "source": [
        "Write up some descriptions for your findings here....\n",
        "\n",
        "\n",
        "\n",
        "\n"
      ]
    },
    {
      "cell_type": "markdown",
      "metadata": {
        "id": "iylFPzJw9yZg"
      },
      "source": [
        "## Extra Libraries\n",
        "\n",
        "We have used plotly which is a fairly simple library for data visualization. There exists other libraries that are much more powerful. We are going to explore two libraries: Seaborn and Matplotlib! Seaborn and Matplotlib are built on top of each other.\n",
        "\n",
        "Seaborn is strong for statistical data and complex data-set.\n",
        "MatplotLib is very good for customizing the visualization such as titles, adjusting scales, etc.\n",
        "When in doubt, google!\n"
      ]
    },
    {
      "cell_type": "markdown",
      "metadata": {
        "id": "erWPmXRa9yZh"
      },
      "source": [
        "### Seaborn\n",
        "\n",
        "With seaborn, we will make 3 graphs: a scatterplot, a overlaid histogram, and a line graph"
      ]
    },
    {
      "cell_type": "code",
      "execution_count": null,
      "metadata": {
        "id": "7RNktcPR9yZh",
        "colab": {
          "base_uri": "https://localhost:8080/",
          "height": 475
        },
        "outputId": "bf2d4f83-a798-45e3-8589-057b3f5aa108"
      },
      "outputs": [
        {
          "output_type": "execute_result",
          "data": {
            "text/plain": [
              "<Axes: xlabel='Culmen Length (mm)', ylabel='Culmen Depth (mm)'>"
            ]
          },
          "metadata": {},
          "execution_count": 42
        },
        {
          "output_type": "display_data",
          "data": {
            "text/plain": [
              "<Figure size 640x480 with 1 Axes>"
            ],
            "image/png": "[encoded data removed]"
          },
          "metadata": {}
        }
      ],
      "source": [
        "### SCATTERPLOT ###\n",
        "# Import seaborn\n",
        "import seaborn as sns\n",
        "\n",
        "# Apply the default theme\n",
        "sns.set_theme()\n",
        "\n",
        "# Using the same penguins dataframe\n",
        "penguins_dataframe = pd.read_csv(\"https://raw.githubusercontent.com/mcnakhaee/palmerpenguins/master/palmerpenguins/data/penguins-raw.csv\")\n",
        "\n",
        "# Create a visualization\n",
        "sns.scatterplot(\n",
        "    data=penguins_dataframe,\n",
        "    x=\"Culmen Length (mm)\", y=\"Culmen Depth (mm)\",\n",
        "    hue=\"Sex\",\n",
        ")"
      ]
    },
    {
      "cell_type": "code",
      "execution_count": null,
      "metadata": {
        "id": "gN7w76899yZi",
        "colab": {
          "base_uri": "https://localhost:8080/",
          "height": 475
        },
        "outputId": "8fcaf053-6a8d-4262-f126-2dc10b0c7adc"
      },
      "outputs": [
        {
          "output_type": "execute_result",
          "data": {
            "text/plain": [
              "<Axes: xlabel='Flipper Length (mm)', ylabel='Count'>"
            ]
          },
          "metadata": {},
          "execution_count": 43
        },
        {
          "output_type": "display_data",
          "data": {
            "text/plain": [
              "<Figure size 640x480 with 1 Axes>"
            ],
            "image/png": "[encoded data removed]"
          },
          "metadata": {}
        }
      ],
      "source": [
        "### HISTOGRAM ###\n",
        "sns.histplot(penguins_dataframe, x = 'Flipper Length (mm)', hue = 'Sex')"
      ]
    },
    {
      "cell_type": "code",
      "execution_count": null,
      "metadata": {
        "id": "4oaaN15W9yZm",
        "colab": {
          "base_uri": "https://localhost:8080/",
          "height": 475
        },
        "outputId": "043a54a9-d97f-46f0-f95c-bd993afac413"
      },
      "outputs": [
        {
          "output_type": "execute_result",
          "data": {
            "text/plain": [
              "<Axes: xlabel='Body Mass (g)', ylabel='Flipper Length (mm)'>"
            ]
          },
          "metadata": {},
          "execution_count": 44
        },
        {
          "output_type": "display_data",
          "data": {
            "text/plain": [
              "<Figure size 640x480 with 1 Axes>"
            ],
            "image/png": "[encoded data removed]"
          },
          "metadata": {}
        }
      ],
      "source": [
        "### LINE GRAPH ###\n",
        "sns.lineplot(\n",
        "    data=penguins_dataframe,\n",
        "    x = 'Body Mass (g)', y = 'Flipper Length (mm)',\n",
        "    hue = 'Sex'\n",
        ")"
      ]
    },
    {
      "cell_type": "markdown",
      "metadata": {
        "id": "NkS6k7Rw9yZt"
      },
      "source": [
        "### Matplotlib\n",
        "Matplotlib is another powerful Python visualization library for data plotting and explorations. We will use it today to easily add and change titles and labels on our plots"
      ]
    },
    {
      "cell_type": "code",
      "execution_count": null,
      "metadata": {
        "id": "FidKuSXD9yZx",
        "colab": {
          "base_uri": "https://localhost:8080/",
          "height": 497
        },
        "outputId": "a5119c54-d5fe-4a81-c619-3280e5d5c3a7"
      },
      "outputs": [
        {
          "output_type": "execute_result",
          "data": {
            "text/plain": [
              "<matplotlib.legend.Legend at 0x7f7a1d3cd210>"
            ]
          },
          "metadata": {},
          "execution_count": 45
        },
        {
          "output_type": "display_data",
          "data": {
            "text/plain": [
              "<Figure size 640x480 with 1 Axes>"
            ],
            "image/png": "[encoded data removed]"
          },
          "metadata": {}
        }
      ],
      "source": [
        "# Import Matplotlib\n",
        "import matplotlib\n",
        "import matplotlib.pyplot as plt\n",
        "\n",
        "# Plot our seaborn scatterplot from the previous step\n",
        "sns.scatterplot(\n",
        "    data=penguins_dataframe,\n",
        "    x=\"Culmen Length (mm)\", y=\"Culmen Depth (mm)\",\n",
        "    hue=\"Sex\",\n",
        ")\n",
        "\n",
        "# Add a title to our graph and change the legend title!\n",
        "plt.title(\"Culmen Length vs Culmen Depth\")\n",
        "plt.legend(title = 'Gender')"
      ]
    },
    {
      "cell_type": "markdown",
      "metadata": {
        "id": "WUZsUT1n9yZ1"
      },
      "source": [
        "Here is another example of editing the titles and axis labels. This is a very important step in data visualization as it provides clarity and interpretation to our viewers"
      ]
    },
    {
      "cell_type": "code",
      "execution_count": null,
      "metadata": {
        "id": "SXTbNQrc9yZ3",
        "colab": {
          "base_uri": "https://localhost:8080/",
          "height": 497
        },
        "outputId": "46bf79b1-0f86-4a2e-8699-14747580cc67"
      },
      "outputs": [
        {
          "output_type": "execute_result",
          "data": {
            "text/plain": [
              "Text(0.5, 0, 'Flipper Length in millimeters')"
            ]
          },
          "metadata": {},
          "execution_count": 46
        },
        {
          "output_type": "display_data",
          "data": {
            "text/plain": [
              "<Figure size 640x480 with 1 Axes>"
            ],
            "image/png": "[encoded data removed]"
          },
          "metadata": {}
        }
      ],
      "source": [
        "\n",
        "# Plot our seaborn histogram from an earlier step\n",
        "sns.histplot(penguins_dataframe, x = 'Flipper Length (mm)', hue = 'Sex')\n",
        "\n",
        "# Add a descriptive title to our histogram!\n",
        "plt.title(\"Distribution of Flipper Lengths Based on Gender\")\n",
        "\n",
        "# Change x-axis label\n",
        "plt.xlabel('Flipper Length in millimeters')"
      ]
    },
    {
      "cell_type": "markdown",
      "metadata": {
        "id": "UJaDl0zB9yZ5"
      },
      "source": [
        "Thank you!\n",
        "\n"
      ]
    }
  ],
  "metadata": {
    "kernelspec": {
      "display_name": "Python 3.9.12 ('base')",
      "language": "python",
      "name": "python3"
    },
    "language_info": {
      "codemirror_mode": {
        "name": "ipython",
        "version": 3
      },
      "file_extension": ".py",
      "mimetype": "text/x-python",
      "name": "python",
      "nbconvert_exporter": "python",
      "pygments_lexer": "ipython3",
      "version": "3.9.12"
    },
    "orig_nbformat": 4,
    "vscode": {
      "interpreter": {
        "hash": "335ee12212264728feb72f243af72c5a8ea26c832f07e1f651ce9e17c7ceae23"
      }
    },
    "colab": {
      "provenance": [],
      "include_colab_link": true
    }
  },
  "nbformat": 4,
  "nbformat_minor": 0
}